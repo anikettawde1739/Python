{
 "cells": [
  {
   "cell_type": "code",
   "execution_count": 1,
   "id": "73dd9c13-1c37-485d-a486-55467a44da89",
   "metadata": {},
   "outputs": [
    {
     "name": "stdout",
     "output_type": "stream",
     "text": [
      "False\n",
      "True\n"
     ]
    }
   ],
   "source": [
    "#Python Comparison Operators\n",
    "a=5\n",
    "b=7\n",
    "print (a>b)\n",
    "print (a<b)"
   ]
  },
  {
   "cell_type": "code",
   "execution_count": 2,
   "id": "9aafd125-adea-45ee-8b36-f405c12fe62d",
   "metadata": {},
   "outputs": [
    {
     "name": "stdout",
     "output_type": "stream",
     "text": [
      "Both operands are integer\n",
      "a= 5 b= 7 a>b is False\n",
      "a= 5 b= 7 a<b is True\n",
      "a= 5 b= 7 a==b is False\n",
      "a= 5 b= 7 a!=b is True\n"
     ]
    }
   ],
   "source": [
    "print (\"Both operands are integer\")\n",
    "a=5\n",
    "b=7\n",
    "print (\"a=\",a, \"b=\",b, \"a>b is\", a>b)\n",
    "print (\"a=\",a, \"b=\",b,\"a<b is\",a<b)\n",
    "print (\"a=\",a, \"b=\",b,\"a==b is\",a==b)\n",
    "print (\"a=\",a, \"b=\",b,\"a!=b is\",a!=b)"
   ]
  },
  {
   "cell_type": "code",
   "execution_count": 3,
   "id": "a3624132-ca1f-4f8a-b87c-0b48a4ab9eb7",
   "metadata": {},
   "outputs": [
    {
     "name": "stdout",
     "output_type": "stream",
     "text": [
      "comparison of int and float\n",
      "a= 10 b= 10.0 a>b is False\n",
      "a= 10 b= 10.0 a<b is False\n",
      "a= 10 b= 10.0 a==b is True\n",
      "a= 10 b= 10.0 a!=b is False\n"
     ]
    }
   ],
   "source": [
    "#Comparison of Float Number\n",
    "print (\"comparison of int and float\")\n",
    "a=10\n",
    "b=10.0\n",
    "print (\"a=\",a, \"b=\",b, \"a>b is\", a>b)\n",
    "print (\"a=\",a, \"b=\",b,\"a<b is\",a<b)\n",
    "print (\"a=\",a, \"b=\",b,\"a==b is\",a==b)\n",
    "print (\"a=\",a, \"b=\",b,\"a!=b is\",a!=b)"
   ]
  },
  {
   "cell_type": "code",
   "execution_count": 4,
   "id": "aa156e5a-3a3b-4ff2-8055-e613b8a45a00",
   "metadata": {},
   "outputs": [
    {
     "name": "stdout",
     "output_type": "stream",
     "text": [
      "comparison of complex numbers\n",
      "a= (10+1j) b= (10-1j) a==b is False\n",
      "a= (10+1j) b= (10-1j) a!=b is True\n"
     ]
    }
   ],
   "source": [
    "# Comparison of Complex numbers\n",
    "print (\"comparison of complex numbers\")\n",
    "a=10+1j\n",
    "b=10.-1j\n",
    "print (\"a=\",a, \"b=\",b,\"a==b is\",a==b)\n",
    "print (\"a=\",a, \"b=\",b,\"a!=b is\",a!=b)"
   ]
  },
  {
   "cell_type": "code",
   "execution_count": 5,
   "id": "b12d030b-c949-473d-9afe-cba826220f85",
   "metadata": {},
   "outputs": [
    {
     "name": "stdout",
     "output_type": "stream",
     "text": [
      "comparison of complex numbers\n"
     ]
    },
    {
     "ename": "TypeError",
     "evalue": "'<' not supported between instances of 'complex' and 'complex'",
     "output_type": "error",
     "traceback": [
      "\u001b[31m---------------------------------------------------------------------------\u001b[39m",
      "\u001b[31mTypeError\u001b[39m                                 Traceback (most recent call last)",
      "\u001b[36mCell\u001b[39m\u001b[36m \u001b[39m\u001b[32mIn[5]\u001b[39m\u001b[32m, line 4\u001b[39m\n\u001b[32m      2\u001b[39m a=\u001b[32m10\u001b[39m+\u001b[32m1\u001b[39mj\n\u001b[32m      3\u001b[39m b=\u001b[32m10.\u001b[39m-\u001b[32m1\u001b[39mj\n\u001b[32m----> \u001b[39m\u001b[32m4\u001b[39m \u001b[38;5;28mprint\u001b[39m (\u001b[33m\"\u001b[39m\u001b[33ma=\u001b[39m\u001b[33m\"\u001b[39m,a, \u001b[33m\"\u001b[39m\u001b[33mb=\u001b[39m\u001b[33m\"\u001b[39m,b,\u001b[33m\"\u001b[39m\u001b[33ma<b is\u001b[39m\u001b[33m\"\u001b[39m,\u001b[43ma\u001b[49m\u001b[43m<\u001b[49m\u001b[43mb\u001b[49m)\n\u001b[32m      5\u001b[39m \u001b[38;5;28mprint\u001b[39m (\u001b[33m\"\u001b[39m\u001b[33ma=\u001b[39m\u001b[33m\"\u001b[39m,a, \u001b[33m\"\u001b[39m\u001b[33mb=\u001b[39m\u001b[33m\"\u001b[39m,b,\u001b[33m\"\u001b[39m\u001b[33ma>b is\u001b[39m\u001b[33m\"\u001b[39m,a>b)\n",
      "\u001b[31mTypeError\u001b[39m: '<' not supported between instances of 'complex' and 'complex'"
     ]
    }
   ],
   "source": [
    "print (\"comparison of complex numbers\")\n",
    "a=10+1j\n",
    "b=10.-1j\n",
    "print (\"a=\",a, \"b=\",b,\"a<b is\",a<b)\n",
    "print (\"a=\",a, \"b=\",b,\"a>b is\",a>b)"
   ]
  },
  {
   "cell_type": "code",
   "execution_count": 6,
   "id": "a036da6d-85d1-4083-bd6a-fe1a08ff16e7",
   "metadata": {},
   "outputs": [
    {
     "name": "stdout",
     "output_type": "stream",
     "text": [
      "comparison of Booleans\n",
      "a= True b= False a<b is False\n",
      "a= True b= False a>b is True\n",
      "a= True b= False a==b is False\n",
      "a= True b= False a!=b is True\n"
     ]
    }
   ],
   "source": [
    "#Comparison of Booleans\n",
    "print (\"comparison of Booleans\")\n",
    "a=True\n",
    "b=False\n",
    "print (\"a=\",a, \"b=\",b,\"a<b is\",a<b)\n",
    "print (\"a=\",a, \"b=\",b,\"a>b is\",a>b)\n",
    "print (\"a=\",a, \"b=\",b,\"a==b is\",a==b)\n",
    "print (\"a=\",a, \"b=\",b,\"a!=b is\",a!=b)"
   ]
  },
  {
   "cell_type": "code",
   "execution_count": 7,
   "id": "4290f6a9-25a6-4163-a151-ed6b3dfca336",
   "metadata": {},
   "outputs": [
    {
     "name": "stdout",
     "output_type": "stream",
     "text": [
      "comparison of different sequence types\n"
     ]
    },
    {
     "ename": "TypeError",
     "evalue": "'<' not supported between instances of 'tuple' and 'list'",
     "output_type": "error",
     "traceback": [
      "\u001b[31m---------------------------------------------------------------------------\u001b[39m",
      "\u001b[31mTypeError\u001b[39m                                 Traceback (most recent call last)",
      "\u001b[36mCell\u001b[39m\u001b[36m \u001b[39m\u001b[32mIn[7]\u001b[39m\u001b[32m, line 5\u001b[39m\n\u001b[32m      3\u001b[39m a=(\u001b[32m1\u001b[39m,\u001b[32m2\u001b[39m,\u001b[32m3\u001b[39m)\n\u001b[32m      4\u001b[39m b=[\u001b[32m1\u001b[39m,\u001b[32m2\u001b[39m,\u001b[32m3\u001b[39m]\n\u001b[32m----> \u001b[39m\u001b[32m5\u001b[39m \u001b[38;5;28mprint\u001b[39m (\u001b[33m\"\u001b[39m\u001b[33ma=\u001b[39m\u001b[33m\"\u001b[39m,a, \u001b[33m\"\u001b[39m\u001b[33mb=\u001b[39m\u001b[33m\"\u001b[39m,b,\u001b[33m\"\u001b[39m\u001b[33ma<b is\u001b[39m\u001b[33m\"\u001b[39m,\u001b[43ma\u001b[49m\u001b[43m<\u001b[49m\u001b[43mb\u001b[49m)\n",
      "\u001b[31mTypeError\u001b[39m: '<' not supported between instances of 'tuple' and 'list'"
     ]
    }
   ],
   "source": [
    "#Comparison of Sequence Types\n",
    "print (\"comparison of different sequence types\")\n",
    "a=(1,2,3)\n",
    "b=[1,2,3]\n",
    "print (\"a=\",a, \"b=\",b,\"a<b is\",a<b)"
   ]
  },
  {
   "cell_type": "code",
   "execution_count": 8,
   "id": "937f2d9f-c1d1-4025-822e-dcda8d0089f0",
   "metadata": {},
   "outputs": [
    {
     "name": "stdout",
     "output_type": "stream",
     "text": [
      "comparison of strings\n",
      "a= BAT b= BALL a<b is False\n",
      "a= BAT b= BALL a>b is True\n",
      "a= BAT b= BALL a==b is False\n",
      "a= BAT b= BALL a!=b is True\n"
     ]
    }
   ],
   "source": [
    "print (\"comparison of strings\")\n",
    "a='BAT'\n",
    "b='BALL'\n",
    "print (\"a=\",a, \"b=\",b,\"a<b is\",a<b)\n",
    "print (\"a=\",a, \"b=\",b,\"a>b is\",a>b)\n",
    "print (\"a=\",a, \"b=\",b,\"a==b is\",a==b)\n",
    "print (\"a=\",a, \"b=\",b,\"a!=b is\",a!=b)"
   ]
  },
  {
   "cell_type": "code",
   "execution_count": 9,
   "id": "24604af1-483f-4d3c-bcbf-03d56c0a85d3",
   "metadata": {},
   "outputs": [
    {
     "name": "stdout",
     "output_type": "stream",
     "text": [
      "comparison of tuples\n",
      "a= (1, 2, 4) b= (1, 2, 3) a<b is False\n",
      "a= (1, 2, 4) b= (1, 2, 3) a>b is True\n",
      "a= (1, 2, 4) b= (1, 2, 3) a==b is False\n",
      "a= (1, 2, 4) b= (1, 2, 3) a!=b is True\n"
     ]
    }
   ],
   "source": [
    "print (\"comparison of tuples\")\n",
    "a=(1,2,4)\n",
    "b=(1,2,3)\n",
    "print (\"a=\",a, \"b=\",b,\"a<b is\",a<b)\n",
    "print (\"a=\",a, \"b=\",b,\"a>b is\",a>b)\n",
    "print (\"a=\",a, \"b=\",b,\"a==b is\",a==b)\n",
    "print (\"a=\",a, \"b=\",b,\"a!=b is\",a!=b)"
   ]
  },
  {
   "cell_type": "code",
   "execution_count": 10,
   "id": "034893aa-065f-49cb-be82-b7fbc7331d0c",
   "metadata": {},
   "outputs": [
    {
     "name": "stdout",
     "output_type": "stream",
     "text": [
      "comparison of dictionary objects\n",
      "a= {1: 1, 2: 2} b= {2: 2, 1: 1, 3: 3} a==b is False\n",
      "a= {1: 1, 2: 2} b= {2: 2, 1: 1, 3: 3} a!=b is True\n"
     ]
    }
   ],
   "source": [
    "#Comparison of Dictionary Objects\n",
    "print (\"comparison of dictionary objects\")\n",
    "a={1:1,2:2}\n",
    "b={2:2, 1:1, 3:3}\n",
    "print (\"a=\",a, \"b=\",b,\"a==b is\",a==b)\n",
    "print (\"a=\",a, \"b=\",b,\"a!=b is\",a!=b)"
   ]
  },
  {
   "cell_type": "code",
   "execution_count": null,
   "id": "f5d9661b-cc02-4dcb-a8c6-13cefbfc2d59",
   "metadata": {},
   "outputs": [],
   "source": []
  }
 ],
 "metadata": {
  "kernelspec": {
   "display_name": "Python 3 (ipykernel)",
   "language": "python",
   "name": "python3"
  },
  "language_info": {
   "codemirror_mode": {
    "name": "ipython",
    "version": 3
   },
   "file_extension": ".py",
   "mimetype": "text/x-python",
   "name": "python",
   "nbconvert_exporter": "python",
   "pygments_lexer": "ipython3",
   "version": "3.13.5"
  }
 },
 "nbformat": 4,
 "nbformat_minor": 5
}
