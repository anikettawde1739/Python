{
 "cells": [
  {
   "cell_type": "code",
   "execution_count": 1,
   "id": "fbc01bc4-625f-419e-9802-271da00a7017",
   "metadata": {},
   "outputs": [
    {
     "name": "stdout",
     "output_type": "stream",
     "text": [
      "15\n"
     ]
    }
   ],
   "source": [
    "#Python Assignment Operator\n",
    "a = 10\n",
    "b = 5\n",
    "a = a + b\n",
    "print (a)"
   ]
  },
  {
   "cell_type": "code",
   "execution_count": 2,
   "id": "499c8bc4-0dbc-4bb9-bbe7-8167a5959ed5",
   "metadata": {},
   "outputs": [
    {
     "name": "stdout",
     "output_type": "stream",
     "text": [
      "Augmented addition of int and int\n",
      "a= 15 type(a): <class 'int'>\n",
      "Augmented addition of int and float\n",
      "a= 15.5 type(a): <class 'float'>\n",
      "Augmented addition of float and complex\n",
      "a= (15.5+6j) type(a): <class 'complex'>\n"
     ]
    }
   ],
   "source": [
    "a=10\n",
    "b=5\n",
    "print (\"Augmented addition of int and int\")\n",
    "a+=b # equivalent to a=a+b\n",
    "print (\"a=\",a, \"type(a):\", type(a))\n",
    "\n",
    "a=10\n",
    "b=5.5\n",
    "print (\"Augmented addition of int and float\")\n",
    "a+=b  # equivalent to a=a+b\n",
    "print (\"a=\",a, \"type(a):\", type(a))\n",
    "\n",
    "a=10.50\n",
    "b=5+6j\n",
    "print (\"Augmented addition of float and complex\")\n",
    "a+=b #equivalent to a=a+b\n",
    "print (\"a=\",a, \"type(a):\", type(a))"
   ]
  },
  {
   "cell_type": "code",
   "execution_count": 3,
   "id": "558289ad-686b-4310-ba71-e9e7d4976f64",
   "metadata": {},
   "outputs": [
    {
     "name": "stdout",
     "output_type": "stream",
     "text": [
      "Augmented subtraction of int and int\n",
      "a= 5 type(a): <class 'int'>\n",
      "Augmented subtraction of int and float\n",
      "a= 4.5 type(a): <class 'float'>\n",
      "Augmented subtraction of float and complex\n",
      "a= (5.5-6j) type(a): <class 'complex'>\n"
     ]
    }
   ],
   "source": [
    "#Augmented Subtraction Operator (-=)\n",
    "a=10\n",
    "b=5\n",
    "print (\"Augmented subtraction of int and int\")\n",
    "a-=b #equivalent to a=a-b\n",
    "print (\"a=\",a, \"type(a):\", type(a))\n",
    "\n",
    "a=10\n",
    "b=5.5\n",
    "print (\"Augmented subtraction of int and float\")\n",
    "a-=b #equivalent to a=a-b\n",
    "print (\"a=\",a, \"type(a):\", type(a))\n",
    "\n",
    "a=10.50\n",
    "b=5+6j\n",
    "print (\"Augmented subtraction of float and complex\")\n",
    "a-=b #equivalent to a=a-b\n",
    "print (\"a=\",a, \"type(a):\", type(a))"
   ]
  },
  {
   "cell_type": "code",
   "execution_count": 4,
   "id": "943ee55d-41de-4f09-ac72-e30bf2eba1b2",
   "metadata": {},
   "outputs": [
    {
     "name": "stdout",
     "output_type": "stream",
     "text": [
      "Augmented multiplication of int and int\n",
      "a= 50 type(a): <class 'int'>\n",
      "Augmented multiplication of int and float\n",
      "a= 55.0 type(a): <class 'float'>\n",
      "Augmented multiplication of complex and complex\n",
      "a= (10+24j) type(a): <class 'complex'>\n"
     ]
    }
   ],
   "source": [
    "#Augmented Multiplication Operator (*=)\n",
    "a=10\n",
    "b=5\n",
    "print (\"Augmented multiplication of int and int\")\n",
    "a*=b #equivalent to a=a*b\n",
    "print (\"a=\",a, \"type(a):\", type(a))\n",
    "\n",
    "a=10\n",
    "b=5.5\n",
    "print (\"Augmented multiplication of int and float\")\n",
    "a*=b #equivalent to a=a*b\n",
    "print (\"a=\",a, \"type(a):\", type(a))\n",
    "\n",
    "a=6+4j\n",
    "b=3+2j\n",
    "print (\"Augmented multiplication of complex and complex\")\n",
    "a*=b #equivalent to a=a*b\n",
    "print (\"a=\",a, \"type(a):\", type(a))"
   ]
  },
  {
   "cell_type": "code",
   "execution_count": 5,
   "id": "e5ca25bf-9414-4650-972d-9ec17a5e30ea",
   "metadata": {},
   "outputs": [
    {
     "name": "stdout",
     "output_type": "stream",
     "text": [
      "Augmented division of int and int\n",
      "a= 2.0 type(a): <class 'float'>\n",
      "Augmented division of int and float\n",
      "a= 1.8181818181818181 type(a): <class 'float'>\n",
      "Augmented division of complex and complex\n",
      "a= (2+0j) type(a): <class 'complex'>\n"
     ]
    }
   ],
   "source": [
    "#Augmented Division Operator (/=)\n",
    "a=10\n",
    "b=5\n",
    "print (\"Augmented division of int and int\")\n",
    "a/=b #equivalent to a=a/b\n",
    "print (\"a=\",a, \"type(a):\", type(a))\n",
    "\n",
    "a=10\n",
    "b=5.5\n",
    "print (\"Augmented division of int and float\")\n",
    "a/=b #equivalent to a=a/b\n",
    "print (\"a=\",a, \"type(a):\", type(a))\n",
    "\n",
    "a=6+4j\n",
    "b=3+2j\n",
    "print (\"Augmented division of complex and complex\")\n",
    "a/=b #equivalent to a=a/b\n",
    "print (\"a=\",a, \"type(a):\", type(a))"
   ]
  },
  {
   "cell_type": "code",
   "execution_count": 6,
   "id": "ab7da13b-fa42-41b8-9f5c-8f664755efb3",
   "metadata": {},
   "outputs": [
    {
     "name": "stdout",
     "output_type": "stream",
     "text": [
      "Augmented modulus operator with int and int\n",
      "a= 0 type(a): <class 'int'>\n",
      "Augmented modulus operator with int and float\n",
      "a= 4.5 type(a): <class 'float'>\n"
     ]
    }
   ],
   "source": [
    "#Augmented Modulus Operator (%=)\n",
    "a=10\n",
    "b=5\n",
    "print (\"Augmented modulus operator with int and int\")\n",
    "a%=b #equivalent to a=a%b\n",
    "print (\"a=\",a, \"type(a):\", type(a))\n",
    "\n",
    "a=10\n",
    "b=5.5\n",
    "print (\"Augmented modulus operator with int and float\")\n",
    "a%=b #equivalent to a=a%b\n",
    "print (\"a=\",a, \"type(a):\", type(a))"
   ]
  },
  {
   "cell_type": "code",
   "execution_count": 7,
   "id": "0dcb8def-808b-4db6-bc6e-2cede33f3f42",
   "metadata": {},
   "outputs": [
    {
     "name": "stdout",
     "output_type": "stream",
     "text": [
      "Augmented exponent operator with int and int\n",
      "a= 100000 type(a): <class 'int'>\n",
      "Augmented exponent operator with int and float\n",
      "a= 316227.7660168379 type(a): <class 'float'>\n",
      "Augmented exponent operator with complex and complex\n",
      "a= (97.52306038414744-62.225299920362026j) type(a): <class 'complex'>\n"
     ]
    }
   ],
   "source": [
    "#Augmented Exponent Operator (**=)\n",
    "a=10\n",
    "b=5\n",
    "print (\"Augmented exponent operator with int and int\")\n",
    "a**=b #equivalent to a=a**b\n",
    "print (\"a=\",a, \"type(a):\", type(a))\n",
    "\n",
    "a=10\n",
    "b=5.5\n",
    "print (\"Augmented exponent operator with int and float\")\n",
    "a**=b #equivalent to a=a**b\n",
    "print (\"a=\",a, \"type(a):\", type(a))\n",
    "\n",
    "a=6+4j\n",
    "b=3+2j\n",
    "print (\"Augmented exponent operator with complex and complex\")\n",
    "a**=b #equivalent to a=a**b\n",
    "print (\"a=\",a, \"type(a):\", type(a))"
   ]
  },
  {
   "cell_type": "code",
   "execution_count": 8,
   "id": "8ece3772-ba68-43ea-aa31-183b9e5f9338",
   "metadata": {},
   "outputs": [
    {
     "name": "stdout",
     "output_type": "stream",
     "text": [
      "Augmented floor division operator with int and int\n",
      "a= 2 type(a): <class 'int'>\n",
      "Augmented floor division operator with int and float\n",
      "a= 1.0 type(a): <class 'float'>\n"
     ]
    }
   ],
   "source": [
    "#Augmented Floor division Operator (//=)\n",
    "a=10\n",
    "b=5\n",
    "print (\"Augmented floor division operator with int and int\")\n",
    "a//=b #equivalent to a=a//b\n",
    "print (\"a=\",a, \"type(a):\", type(a))\n",
    "\n",
    "a=10\n",
    "b=5.5\n",
    "print (\"Augmented floor division operator with int and float\")\n",
    "a//=b #equivalent to a=a//b\n",
    "print (\"a=\",a, \"type(a):\", type(a))\n"
   ]
  },
  {
   "cell_type": "code",
   "execution_count": null,
   "id": "43382c63-4bc7-43d9-9161-aff1723f3886",
   "metadata": {},
   "outputs": [],
   "source": []
  }
 ],
 "metadata": {
  "kernelspec": {
   "display_name": "Python 3 (ipykernel)",
   "language": "python",
   "name": "python3"
  },
  "language_info": {
   "codemirror_mode": {
    "name": "ipython",
    "version": 3
   },
   "file_extension": ".py",
   "mimetype": "text/x-python",
   "name": "python",
   "nbconvert_exporter": "python",
   "pygments_lexer": "ipython3",
   "version": "3.13.5"
  }
 },
 "nbformat": 4,
 "nbformat_minor": 5
}
