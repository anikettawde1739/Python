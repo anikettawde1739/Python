{
 "cells": [
  {
   "cell_type": "code",
   "execution_count": 2,
   "id": "b223208b-5c7e-4dce-934b-d071ef571b71",
   "metadata": {},
   "outputs": [
    {
     "name": "stdout",
     "output_type": "stream",
     "text": [
      "a: 36 b: 21 a+b: 57\n",
      "a: 36 b: 21 a-b: 15\n",
      "a: 36 b: 21 a*b: 756\n",
      "a: 36 b: 21 a/b: 1.7142857142857142\n",
      "a: 36 b: 21 a%b: 15\n",
      "a: 2 b: 3 a**b: 8\n",
      "a: 10 b: 5 a//b: 2\n"
     ]
    }
   ],
   "source": [
    "# Python Operator\n",
    "a = 36\n",
    "b = 21\n",
    "c = 0\n",
    "\n",
    "c = a + b\n",
    "print (\"a: {} b: {} a+b: {}\".format(a,b,c))\n",
    "\n",
    "c = a - b\n",
    "print (\"a: {} b: {} a-b: {}\".format(a,b,c) )\n",
    "\n",
    "c = a * b\n",
    "print (\"a: {} b: {} a*b: {}\".format(a,b,c))\n",
    "\n",
    "c = a / b\n",
    "print (\"a: {} b: {} a/b: {}\".format(a,b,c))\n",
    "\n",
    "c = a % b\n",
    "print (\"a: {} b: {} a%b: {}\".format(a,b,c))\n",
    "\n",
    "a = 2\n",
    "b = 3\n",
    "c = a**b \n",
    "print (\"a: {} b: {} a**b: {}\".format(a,b,c))\n",
    "\n",
    "a = 10\n",
    "b = 5\n",
    "c = a//b \n",
    "print (\"a: {} b: {} a//b: {}\".format(a,b,c))"
   ]
  },
  {
   "cell_type": "code",
   "execution_count": 3,
   "id": "507e2b05-412d-473a-a06b-07baae0e341b",
   "metadata": {},
   "outputs": [
    {
     "name": "stdout",
     "output_type": "stream",
     "text": [
      "Line 1 - a is not equal to b\n",
      "Line 2 - a is not equal to b\n",
      "Line 3 - a is not less than b\n",
      "Line 4 - a is greater than b\n",
      "Line 5 - a is either less than or equal to  b\n",
      "Line 6 - b is either greater than  or equal to b\n"
     ]
    }
   ],
   "source": [
    "# Python Comparison Operators\n",
    "a = 21\n",
    "b = 10\n",
    "if ( a == b ):\n",
    "   print (\"Line 1 - a is equal to b\")\n",
    "else:\n",
    "   print (\"Line 1 - a is not equal to b\")\n",
    "\n",
    "if ( a != b ):\n",
    "   print (\"Line 2 - a is not equal to b\")\n",
    "else:\n",
    "   print (\"Line 2 - a is equal to b\")\n",
    "\n",
    "if ( a < b ):\n",
    "   print (\"Line 3 - a is less than b\" )\n",
    "else:\n",
    "   print (\"Line 3 - a is not less than b\")\n",
    "\n",
    "if ( a > b ):\n",
    "   print (\"Line 4 - a is greater than b\")\n",
    "else:\n",
    "   print (\"Line 4 - a is not greater than b\")\n",
    "\n",
    "a,b=b,a #values of a and b swapped. a becomes 10, b becomes 21\n",
    "\n",
    "if ( a <= b ):\n",
    "   print (\"Line 5 - a is either less than or equal to  b\")\n",
    "else:\n",
    "   print (\"Line 5 - a is neither less than nor equal to  b\")\n",
    "\n",
    "if ( b >= a ):\n",
    "   print (\"Line 6 - b is either greater than  or equal to b\")\n",
    "else:\n",
    "   print (\"Line 6 - b is neither greater than  nor equal to b\")"
   ]
  },
  {
   "cell_type": "code",
   "execution_count": 4,
   "id": "58e96942-dcda-48d5-8c42-8766e94851c7",
   "metadata": {},
   "outputs": [
    {
     "name": "stdout",
     "output_type": "stream",
     "text": [
      "a: 21 b: 10 c : 0\n",
      "a: 21  c = a + b: 31\n",
      "a: 21 c += a: 52\n",
      "a: 21 c *= a: 1092\n",
      "a: 21 c /= a : 52.0\n",
      "a: 21 b: 10 c : 2\n",
      "a: 21 c %= a: 2\n",
      "a: 21 c **= a: 2097152\n",
      "a: 21 c //= a: 99864\n"
     ]
    }
   ],
   "source": [
    "## Python Assignment Operators\n",
    "a = 21\n",
    "b = 10\n",
    "c = 0\n",
    "print (\"a: {} b: {} c : {}\".format(a,b,c))\n",
    "c = a + b\n",
    "print (\"a: {}  c = a + b: {}\".format(a,c))\n",
    "\n",
    "c += a\n",
    "print (\"a: {} c += a: {}\".format(a,c))\n",
    "\n",
    "c *= a\n",
    "print (\"a: {} c *= a: {}\".format(a,c))\n",
    "\n",
    "c /= a \n",
    "print (\"a: {} c /= a : {}\".format(a,c))\n",
    "\n",
    "c  = 2\n",
    "print (\"a: {} b: {} c : {}\".format(a,b,c))\n",
    "c %= a\n",
    "print (\"a: {} c %= a: {}\".format(a,c))\n",
    "\n",
    "c **= a\n",
    "print (\"a: {} c **= a: {}\".format(a,c))\n",
    "\n",
    "c //= a\n",
    "print (\"a: {} c //= a: {}\".format(a,c))"
   ]
  },
  {
   "cell_type": "code",
   "execution_count": 5,
   "id": "2e153813-c011-4b21-af72-386fd8552e48",
   "metadata": {},
   "outputs": [
    {
     "name": "stdout",
     "output_type": "stream",
     "text": [
      "a= 20 : 0b10100 b= 10 : 0b1010\n",
      "result of AND is  0 : 0b0\n",
      "result of OR is  30 : 0b11110\n",
      "result of EXOR is  30 : 0b11110\n",
      "result of COMPLEMENT is  -21 : -0b10101\n",
      "result of LEFT SHIFT is  80 : 0b1010000\n",
      "result of RIGHT SHIFT is  5 : 0b101\n"
     ]
    }
   ],
   "source": [
    "# Python Bitwise Operators\n",
    "a = 20            \n",
    "b = 10            \n",
    "\n",
    "print ('a=',a,':',bin(a),'b=',b,':',bin(b))\n",
    "c = 0\n",
    "\n",
    "c = a & b;        \n",
    "print (\"result of AND is \", c,':',bin(c))\n",
    "\n",
    "c = a | b;     \n",
    "print (\"result of OR is \", c,':',bin(c))\n",
    "\n",
    "c = a ^ b;        \n",
    "print (\"result of EXOR is \", c,':',bin(c))\n",
    "\n",
    "c = ~a;           \n",
    "print (\"result of COMPLEMENT is \", c,':',bin(c))\n",
    "\n",
    "c = a << 2;       \n",
    "print (\"result of LEFT SHIFT is \", c,':',bin(c))\n",
    "\n",
    "c = a >> 2;       \n",
    "print (\"result of RIGHT SHIFT is \", c,':',bin(c))"
   ]
  },
  {
   "cell_type": "code",
   "execution_count": 6,
   "id": "b41628d5-8dd0-4d3b-89d6-922a7115bf5e",
   "metadata": {},
   "outputs": [
    {
     "name": "stdout",
     "output_type": "stream",
     "text": [
      "True\n",
      "True\n",
      "False\n"
     ]
    }
   ],
   "source": [
    "## Python Logical Operators\n",
    "var = 5\n",
    "\n",
    "print(var > 3 and var < 10)\n",
    "print(var > 3 or var < 4)\n",
    "print(not (var > 3 and var < 10))"
   ]
  },
  {
   "cell_type": "code",
   "execution_count": 7,
   "id": "58cd14a3-2083-4fdd-89b6-4e3a6bec6fe3",
   "metadata": {},
   "outputs": [
    {
     "name": "stdout",
     "output_type": "stream",
     "text": [
      "a: 10 b: 20 list: [1, 2, 3, 4, 5]\n",
      "a is not present in the given list\n",
      "b is not present in the given list\n",
      "c: 2.0 list: [1, 2, 3, 4, 5]\n",
      "c is available in the given list\n"
     ]
    }
   ],
   "source": [
    "# Python Membership Operators\n",
    "a = 10\n",
    "b = 20\n",
    "list = [1, 2, 3, 4, 5 ]\n",
    "\n",
    "print (\"a:\", a, \"b:\", b, \"list:\", list)\n",
    "\n",
    "if ( a in list ):\n",
    "   print (\"a is present in the given list\")\n",
    "else:\n",
    "   print (\"a is not present in the given list\")\n",
    "\n",
    "if ( b not in list ):\n",
    "   print (\"b is not present in the given list\")\n",
    "else:\n",
    "   print (\"b is present in the given list\")\n",
    "\n",
    "c=b/a\n",
    "print (\"c:\", c, \"list:\", list)\n",
    "if ( c in list ):\n",
    "   print (\"c is available in the given list\")\n",
    "else:\n",
    "    print (\"c is not available in the given list\")"
   ]
  },
  {
   "cell_type": "code",
   "execution_count": 8,
   "id": "f45b06dd-3dee-4267-a8c3-a921208af5e3",
   "metadata": {},
   "outputs": [
    {
     "name": "stdout",
     "output_type": "stream",
     "text": [
      "True\n",
      "False\n",
      "False\n",
      "True\n"
     ]
    }
   ],
   "source": [
    "#Python Identity Operators\n",
    "a = [1, 2, 3, 4, 5]\n",
    "b = [1, 2, 3, 4, 5]\n",
    "c = a\n",
    "\n",
    "print(a is c)\n",
    "print(a is b)\n",
    "\n",
    "print(a is not c)\n",
    "print(a is not b)"
   ]
  }
 ],
 "metadata": {
  "kernelspec": {
   "display_name": "Python 3 (ipykernel)",
   "language": "python",
   "name": "python3"
  },
  "language_info": {
   "codemirror_mode": {
    "name": "ipython",
    "version": 3
   },
   "file_extension": ".py",
   "mimetype": "text/x-python",
   "name": "python",
   "nbconvert_exporter": "python",
   "pygments_lexer": "ipython3",
   "version": "3.13.5"
  }
 },
 "nbformat": 4,
 "nbformat_minor": 5
}
