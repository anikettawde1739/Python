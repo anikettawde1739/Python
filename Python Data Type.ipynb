{
 "cells": [
  {
   "cell_type": "code",
   "execution_count": 1,
   "id": "fb725742-6515-4891-9ec0-a52e6f1639cf",
   "metadata": {},
   "outputs": [
    {
     "name": "stdout",
     "output_type": "stream",
     "text": [
      "The type of variable having value 100  is  <class 'int'>\n",
      "The type of variable having value 20.345  is  <class 'float'>\n",
      "The type of variable having value (10+3j)  is  <class 'complex'>\n"
     ]
    }
   ],
   "source": [
    "## Numeric Data Types\n",
    "# integer variable.\n",
    "a=100\n",
    "print(\"The type of variable having value\", a, \" is \", type(a))\n",
    "\n",
    "# float variable.\n",
    "c=20.345\n",
    "print(\"The type of variable having value\", c, \" is \", type(c))\n",
    "\n",
    "# complex variable.\n",
    "d=10+3j\n",
    "print(\"The type of variable having value\", d, \" is \", type(d))"
   ]
  },
  {
   "cell_type": "code",
   "execution_count": 2,
   "id": "23e82fd4-b350-4ca2-b615-3891532ede25",
   "metadata": {},
   "outputs": [
    {
     "name": "stdout",
     "output_type": "stream",
     "text": [
      "Hello World!\n",
      "H\n",
      "llo\n",
      "llo World!\n",
      "Hello World!Hello World!\n",
      "Hello World!TEST\n"
     ]
    }
   ],
   "source": [
    "## String Data Type\n",
    "str = 'Hello World!'\n",
    "\n",
    "print (str)          # Prints complete string\n",
    "print (str[0])       # Prints first character of the string\n",
    "print (str[2:5])     # Prints characters starting from 3rd to 5th\n",
    "print (str[2:])      # Prints string starting from 3rd character\n",
    "print (str * 2)      # Prints string two times\n",
    "print (str + \"TEST\") # Prints concatenated string"
   ]
  },
  {
   "cell_type": "code",
   "execution_count": 6,
   "id": "fbeccae3-8c5c-4401-ad5b-07a486969e9f",
   "metadata": {},
   "outputs": [
    {
     "name": "stdout",
     "output_type": "stream",
     "text": [
      "['abcd', 143, 34.45, 'John', 56.7]\n",
      "abcd\n",
      "[143, 34.45]\n",
      "[34.45, 'John', 56.7]\n",
      "[123, 'john', 123, 'john']\n",
      "['abcd', 143, 34.45, 'John', 56.7, 123, 'john']\n"
     ]
    }
   ],
   "source": [
    "##List Data Type\n",
    "list = ['abcd', 143, 34.45, 'John', 56.7 ]\n",
    "tinylist = [123, 'john']\n",
    "\n",
    "print (list)            # Prints complete list\n",
    "print (list[0])         # Prints first element of the list\n",
    "print (list[1:3])       # Prints elements starting from 2nd till 3rd \n",
    "print (list[2:])        # Prints elements starting from 3rd element\n",
    "print (tinylist * 2)    # Prints list two times\n",
    "print (list + tinylist) # Prints concatenated lists"
   ]
  },
  {
   "cell_type": "code",
   "execution_count": 8,
   "id": "9a89c10a-4f65-41d6-8330-fb6e0cf81229",
   "metadata": {},
   "outputs": [
    {
     "name": "stdout",
     "output_type": "stream",
     "text": [
      "('abcd', 786, 25.53, 'john', 80.62)\n",
      "abcd\n",
      "(786, 25.53)\n",
      "(25.53, 'john', 80.62)\n",
      "(123, 'john', 123, 'john')\n",
      "('abcd', 786, 25.53, 'john', 80.62, 123, 'john')\n"
     ]
    }
   ],
   "source": [
    "## tuple data type\n",
    "tuple = ( 'abcd', 786 , 25.53, 'john', 80.62  )\n",
    "tinytuple = (123, 'john')\n",
    "\n",
    "print (tuple)               # Prints the complete tuple\n",
    "print (tuple[0])            # Prints first element of the tuple\n",
    "print (tuple[1:3])          # Prints elements of the tuple starting from 2nd till 3rd \n",
    "print (tuple[2:])           # Prints elements of the tuple starting from 3rd element\n",
    "print (tinytuple * 2)       # Prints the contents of the tuple twice\n",
    "print (tuple + tinytuple)   # Prints concatenated tuples"
   ]
  },
  {
   "cell_type": "code",
   "execution_count": null,
   "id": "1998d82b-5d8a-43ad-8413-e1a193e52277",
   "metadata": {},
   "outputs": [],
   "source": [
    "# DIfference \n",
    "tuple = ( 'abcd', 786 , 2.23, 'john', 70.2  )\n",
    "list = [ 'abcd', 786 , 2.23, 'john', 70.2  ]\n",
    "tuple[2] = 1000    # Invalid syntax with tuple\n",
    "list[2] = 1000     # Valid syntax with list"
   ]
  },
  {
   "cell_type": "code",
   "execution_count": 9,
   "id": "55e00c84-525e-4b2a-a2b8-51e3b86c7452",
   "metadata": {},
   "outputs": [
    {
     "name": "stdout",
     "output_type": "stream",
     "text": [
      "0\n",
      "1\n",
      "2\n",
      "3\n",
      "4\n"
     ]
    }
   ],
   "source": [
    "# Range Data Type\n",
    "for i in range(5):\n",
    "  print(i)"
   ]
  },
  {
   "cell_type": "code",
   "execution_count": 10,
   "id": "ebf63798-0be3-4743-87a3-19966eef2830",
   "metadata": {},
   "outputs": [
    {
     "name": "stdout",
     "output_type": "stream",
     "text": [
      "2\n",
      "3\n",
      "4\n"
     ]
    }
   ],
   "source": [
    "for i in range(2, 5):\n",
    "  print(i)"
   ]
  },
  {
   "cell_type": "code",
   "execution_count": 11,
   "id": "3a495f64-cc15-4ee6-b8a4-8a7d8198465a",
   "metadata": {},
   "outputs": [
    {
     "name": "stdout",
     "output_type": "stream",
     "text": [
      "1\n",
      "3\n"
     ]
    }
   ],
   "source": [
    "for i in range(1, 5, 2):\n",
    "  print(i)\n"
   ]
  },
  {
   "cell_type": "code",
   "execution_count": 12,
   "id": "3fa9f22e-56e9-40b9-ab64-0f709d7515ee",
   "metadata": {},
   "outputs": [
    {
     "name": "stdout",
     "output_type": "stream",
     "text": [
      "b'ABCDE'\n"
     ]
    }
   ],
   "source": [
    "## Python Binary Data Types\n",
    "# Bytes Data Type\n",
    "\n",
    "# Using bytes() function to create bytes\n",
    "b1 = bytes([65, 66, 67, 68, 69])  \n",
    "print(b1)  "
   ]
  },
  {
   "cell_type": "code",
   "execution_count": 13,
   "id": "12b79a63-5fc6-4238-af05-3726c044dfaf",
   "metadata": {},
   "outputs": [
    {
     "name": "stdout",
     "output_type": "stream",
     "text": [
      "b'Hello'\n"
     ]
    }
   ],
   "source": [
    "# Using prefix 'b' to create bytes\n",
    "b2 = b'Hello'  \n",
    "print(b2)  "
   ]
  },
  {
   "cell_type": "code",
   "execution_count": 14,
   "id": "d8ad2c03-dfd2-4056-ac65-e4ee336f2159",
   "metadata": {},
   "outputs": [
    {
     "name": "stdout",
     "output_type": "stream",
     "text": [
      "bytearray(b'Hello')\n"
     ]
    }
   ],
   "source": [
    "## Python Bytearray Data Type\n",
    "# Creating a bytearray from an iterable of integers\n",
    "value = bytearray([72, 101, 108, 108, 111])  \n",
    "print(value)  "
   ]
  },
  {
   "cell_type": "code",
   "execution_count": 15,
   "id": "5f7fd1f3-857d-4fb1-a218-2853dc259f0f",
   "metadata": {},
   "outputs": [
    {
     "name": "stdout",
     "output_type": "stream",
     "text": [
      "bytearray(b'Hello')\n"
     ]
    }
   ],
   "source": [
    "# Creating a bytearray by encoding a string\n",
    "val = bytearray(\"Hello\", 'utf-8')  \n",
    "print(val) "
   ]
  },
  {
   "cell_type": "code",
   "execution_count": 16,
   "id": "6425fc23-9a14-4b26-9381-7e5ff883bb5f",
   "metadata": {},
   "outputs": [
    {
     "name": "stdout",
     "output_type": "stream",
     "text": [
      "<memory at 0x0000022C65D12680>\n"
     ]
    }
   ],
   "source": [
    "## Python Memoryview Data Type\n",
    "data = bytearray(b'Hello, world!')\n",
    "view = memoryview(data)\n",
    "print(view)"
   ]
  },
  {
   "cell_type": "code",
   "execution_count": 17,
   "id": "9e790b86-9e6a-49d4-be7e-3f401b0f305f",
   "metadata": {},
   "outputs": [
    {
     "name": "stdout",
     "output_type": "stream",
     "text": [
      "<memory at 0x0000022C65D137C0>\n"
     ]
    }
   ],
   "source": [
    "import array\n",
    "arr = array.array('i', [1, 2, 3, 4, 5])\n",
    "view = memoryview(arr)\n",
    "print(view)"
   ]
  },
  {
   "cell_type": "code",
   "execution_count": 18,
   "id": "41f1a1b2-ceb8-452a-ab65-2e19a139234a",
   "metadata": {},
   "outputs": [
    {
     "name": "stdout",
     "output_type": "stream",
     "text": [
      "<memory at 0x0000022C65D12500>\n"
     ]
    }
   ],
   "source": [
    "data = b'Hello, world!'\n",
    "# Creating a view of the last part of the data\n",
    "view = memoryview(data[7:])  \n",
    "print(view)"
   ]
  },
  {
   "cell_type": "code",
   "execution_count": 19,
   "id": "771f0c9f-3830-4261-a185-dca3206d0a43",
   "metadata": {},
   "outputs": [
    {
     "name": "stdout",
     "output_type": "stream",
     "text": [
      "This is one\n",
      "This is two\n",
      "{'name': 'john', 'code': 6734, 'dept': 'sales'}\n",
      "dict_keys(['name', 'code', 'dept'])\n",
      "dict_values(['john', 6734, 'sales'])\n"
     ]
    }
   ],
   "source": [
    "## Dictionary Data Type\n",
    "dict = {}\n",
    "dict['one'] = \"This is one\"\n",
    "dict[2]     = \"This is two\"\n",
    "\n",
    "tinydict = {'name': 'john','code':6734, 'dept': 'sales'}\n",
    "\n",
    "\n",
    "print (dict['one'])       # Prints value for 'one' key\n",
    "print (dict[2])           # Prints value for 2 key\n",
    "print (tinydict)          # Prints complete dictionary\n",
    "print (tinydict.keys())   # Prints all the keys\n",
    "print (tinydict.values()) # Prints all the values"
   ]
  },
  {
   "cell_type": "code",
   "execution_count": 20,
   "id": "a384f43c-6a60-46b0-b7a8-6fc39d7c3584",
   "metadata": {},
   "outputs": [
    {
     "name": "stdout",
     "output_type": "stream",
     "text": [
      "{123, 452, 5, 6}\n",
      "{'Java', 'Python', 'JavaScript'}\n"
     ]
    }
   ],
   "source": [
    "# Set Data Type\n",
    "set1 = {123, 452, 5, 6}\n",
    "set2 = {'Java', 'Python', 'JavaScript'}\n",
    "\n",
    "print(set1)\n",
    "print(set2)"
   ]
  },
  {
   "cell_type": "code",
   "execution_count": 21,
   "id": "8cf297f4-5a6f-4a62-ab97-2b528d5d5f34",
   "metadata": {},
   "outputs": [
    {
     "name": "stdout",
     "output_type": "stream",
     "text": [
      "True\n",
      "<class 'bool'>\n"
     ]
    }
   ],
   "source": [
    "# Boolean Data Type\n",
    "a = True\n",
    "# display the value of a\n",
    "print(a)\n",
    "\n",
    "# display the data type of a\n",
    "print(type(a))"
   ]
  },
  {
   "cell_type": "code",
   "execution_count": 22,
   "id": "b4db6ae6-59f7-4cba-a5b7-62a21d3bb545",
   "metadata": {},
   "outputs": [
    {
     "name": "stdout",
     "output_type": "stream",
     "text": [
      "False\n",
      "False\n",
      "False\n",
      "False\n",
      "False\n",
      "True\n"
     ]
    }
   ],
   "source": [
    "# Returns false as a is not equal to b\n",
    "a = 2\n",
    "b = 4\n",
    "print(bool(a==b))\n",
    "\n",
    "# Following also prints the same\n",
    "print(a==b)\n",
    "\n",
    "# Returns False as a is None\n",
    "a = None\n",
    "print(bool(a))\n",
    "\n",
    "# Returns false as a is an empty sequence\n",
    "a = ()\n",
    "print(bool(a))\n",
    "\n",
    "# Returns false as a is 0\n",
    "a = 0.0\n",
    "print(bool(a))\n",
    "\n",
    "# Returns false as a is 10\n",
    "a = 10\n",
    "print(bool(a))"
   ]
  },
  {
   "cell_type": "code",
   "execution_count": 23,
   "id": "0e6294d7-07d6-452b-8140-6415c1929b1a",
   "metadata": {},
   "outputs": [
    {
     "name": "stdout",
     "output_type": "stream",
     "text": [
      "x =  None\n",
      "type of x =  <class 'NoneType'>\n"
     ]
    }
   ],
   "source": [
    "## Python None Type\n",
    "# Declaring a variable\n",
    "# And, assigning a Null value (None)\n",
    "\n",
    "x = None\n",
    "\n",
    "# Printing its value and type\n",
    "print(\"x = \", x)\n",
    "print(\"type of x = \", type(x))"
   ]
  },
  {
   "cell_type": "code",
   "execution_count": 24,
   "id": "ce842b08-11c0-402e-aabd-6ef8dcf36838",
   "metadata": {},
   "outputs": [
    {
     "name": "stdout",
     "output_type": "stream",
     "text": [
      "<class 'int'>\n",
      "<class 'float'>\n",
      "<class 'int'>\n",
      "<class 'float'>\n",
      "<class 'str'>\n",
      "<class 'tuple'>\n",
      "<class 'list'>\n"
     ]
    }
   ],
   "source": [
    "## Getting Data Type\n",
    "# Getting type of values\n",
    "print(type(123))\n",
    "print(type(9.99))\n",
    "\n",
    "# Getting type of variables\n",
    "a = 10\n",
    "b = 2.12\n",
    "c = \"Hello\"\n",
    "d = (10, 20, 30)\n",
    "e = [10, 20, 30]\n",
    "\n",
    "print(type(a))\n",
    "print(type(b))\n",
    "print(type(c))\n",
    "print(type(d))\n",
    "print(type(e))"
   ]
  },
  {
   "cell_type": "code",
   "execution_count": 25,
   "id": "c849e5db-8022-4474-8aad-2f8c6a4dbd74",
   "metadata": {},
   "outputs": [
    {
     "name": "stdout",
     "output_type": "stream",
     "text": [
      "x =  10\n",
      "type of x =  <class 'int'>\n",
      "x =  Hello World!\n",
      "type of x =  <class 'str'>\n"
     ]
    }
   ],
   "source": [
    "## Setting Data Type\n",
    "# Declaring a variable\n",
    "# And, assigning an integer value\n",
    "\n",
    "x = 10\n",
    "\n",
    "# Printing its value and type\n",
    "print(\"x = \", x)\n",
    "print(\"type of x = \", type(x))\n",
    "\n",
    "# Now, assigning string value to\n",
    "# the same variable\n",
    "x = \"Hello World!\"\n",
    "\n",
    "# Printing its value and type\n",
    "print(\"x = \", x)\n",
    "print(\"type of x = \", type(x))"
   ]
  },
  {
   "cell_type": "code",
   "execution_count": 62,
   "id": "81e440ea-e16a-44b2-b050-7145d2f69012",
   "metadata": {},
   "outputs": [],
   "source": [
    "# Primitive and Non-primitive Data Types\n",
    "# 1. Primitive Types \n",
    "#Integers\n",
    "#Floats\n",
    "#Booleans\n",
    "#Strings\n",
    "#2. Non-primitive Types\n",
    "#Lists\n",
    "#Tuples\n",
    "#Dictionaries\n",
    "#Sets "
   ]
  },
  {
   "cell_type": "code",
   "execution_count": 53,
   "id": "7a265540-6637-4d60-88d2-6fba1c08979f",
   "metadata": {},
   "outputs": [
    {
     "name": "stdout",
     "output_type": "stream",
     "text": [
      "Conversion to integer data type\n",
      "1\n",
      "2\n",
      "3\n",
      "Conversion to floating point number\n",
      "1.0\n",
      "2.2\n",
      "3.3\n",
      "Conversion to string\n"
     ]
    },
    {
     "ename": "TypeError",
     "evalue": "'str' object is not callable",
     "output_type": "error",
     "traceback": [
      "\u001b[31m---------------------------------------------------------------------------\u001b[39m",
      "\u001b[31mTypeError\u001b[39m                                 Traceback (most recent call last)",
      "\u001b[36mCell\u001b[39m\u001b[36m \u001b[39m\u001b[32mIn[53]\u001b[39m\u001b[32m, line 20\u001b[39m\n\u001b[32m     17\u001b[39m \u001b[38;5;28mprint\u001b[39m (c)\n\u001b[32m     19\u001b[39m \u001b[38;5;28mprint\u001b[39m(\u001b[33m\"\u001b[39m\u001b[33mConversion to string\u001b[39m\u001b[33m\"\u001b[39m)\n\u001b[32m---> \u001b[39m\u001b[32m20\u001b[39m a = \u001b[38;5;28;43mstr\u001b[39;49m\u001b[43m \u001b[49m\u001b[43m(\u001b[49m\u001b[32;43m1\u001b[39;49m\u001b[43m)\u001b[49m     \u001b[38;5;66;03m# a will be \"1\" \u001b[39;00m\n\u001b[32m     21\u001b[39m b = \u001b[38;5;28mstr\u001b[39m(\u001b[32m2.2\u001b[39m)    \u001b[38;5;66;03m# b will be \"2.2\"\u001b[39;00m\n\u001b[32m     22\u001b[39m c = \u001b[38;5;28mstr\u001b[39m(\u001b[32m3.3\u001b[39m)    \u001b[38;5;66;03m# c will be \"3.3\"\u001b[39;00m\n",
      "\u001b[31mTypeError\u001b[39m: 'str' object is not callable"
     ]
    }
   ],
   "source": [
    "print(\"Conversion to integer data type\")\n",
    "a = int(1)     # a will be 1\n",
    "b = int(2.2)   # b will be 2\n",
    "c = int(3.3)   # c will be 3\n",
    "\n",
    "print (a)\n",
    "print (b)\n",
    "print (c)\n",
    "\n",
    "print(\"Conversion to floating point number\")\n",
    "a = float(1)     # a will be 1.0\n",
    "b = float(2.2)   # b will be 2.2\n",
    "c = float(3.3)   # c will be 3.3\n",
    "\n",
    "print (a)\n",
    "print (b)\n",
    "print (c)\n",
    "\n",
    "print(\"Conversion to string\")\n",
    "a = str (1)     # a will be \"1\" \n",
    "b = str(2.2)    # b will be \"2.2\"\n",
    "c = str(3.3)    # c will be \"3.3\"\n",
    "\n",
    "print (a)\n",
    "print (b)\n",
    "print (c)"
   ]
  },
  {
   "cell_type": "code",
   "execution_count": null,
   "id": "c53fb0c7-cba9-4226-92c7-14e31da99d2d",
   "metadata": {},
   "outputs": [],
   "source": []
  }
 ],
 "metadata": {
  "kernelspec": {
   "display_name": "Python 3 (ipykernel)",
   "language": "python",
   "name": "python3"
  },
  "language_info": {
   "codemirror_mode": {
    "name": "ipython",
    "version": 3
   },
   "file_extension": ".py",
   "mimetype": "text/x-python",
   "name": "python",
   "nbconvert_exporter": "python",
   "pygments_lexer": "ipython3",
   "version": "3.13.5"
  }
 },
 "nbformat": 4,
 "nbformat_minor": 5
}
