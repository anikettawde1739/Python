{
 "cells": [
  {
   "cell_type": "code",
   "execution_count": 4,
   "id": "4dad3012-53a4-4de7-b973-d714c98aa040",
   "metadata": {},
   "outputs": [
    {
     "name": "stdout",
     "output_type": "stream",
     "text": [
      "Number\n",
      "Height\n",
      "Name\n"
     ]
    }
   ],
   "source": [
    "Number = 4000   # integer variable\n",
    "Height = 5.35    # floting point variable\n",
    "Name = \"Raja\"     # string variable\n",
    "print(\"Number\")\n",
    "print(\"Height\")\n",
    "print(\"Name\")"
   ]
  },
  {
   "cell_type": "code",
   "execution_count": 8,
   "id": "8a347d55-1c37-45d7-a4c0-00f589a14473",
   "metadata": {},
   "outputs": [
    {
     "name": "stdout",
     "output_type": "stream",
     "text": [
      "number\n",
      "number\n"
     ]
    }
   ],
   "source": [
    "# Deleting Python Variables\n",
    "number = 2000\n",
    "print(\"number\")\n",
    "\n",
    "del number\n",
    "print(\"number\")"
   ]
  },
  {
   "cell_type": "code",
   "execution_count": 16,
   "id": "1e227575-7188-4385-9c42-5b88eb477280",
   "metadata": {},
   "outputs": [
    {
     "name": "stdout",
     "output_type": "stream",
     "text": [
      "<class 'int'>\n",
      "<class 'int'>\n",
      "<class 'float'>\n"
     ]
    }
   ],
   "source": [
    "## Getting Type of a Variable\n",
    "x = \"Ramesh\"\n",
    "x = 100\n",
    "z = 20.67\n",
    "\n",
    "print(type(x))\n",
    "print(type(y))\n",
    "print(type(z))\n"
   ]
  },
  {
   "cell_type": "code",
   "execution_count": 17,
   "id": "d9a3b119-6a8a-4b58-9c78-e9452fb26049",
   "metadata": {},
   "outputs": [
    {
     "name": "stdout",
     "output_type": "stream",
     "text": [
      "x= Raja\n",
      "y= 20\n",
      "z= 10.46\n"
     ]
    }
   ],
   "source": [
    "## Casting Python Variables\n",
    "x=str(\"Raja\")\n",
    "y=int (20)\n",
    "z=float(10.46)\n",
    "\n",
    "print(\"x=\", x)\n",
    "print(\"y=\", y)\n",
    "print(\"z=\", z)"
   ]
  },
  {
   "cell_type": "code",
   "execution_count": 18,
   "id": "5c2e97fd-95f3-4fcf-8068-c6be9f42e035",
   "metadata": {},
   "outputs": [
    {
     "name": "stdout",
     "output_type": "stream",
     "text": [
      "age\n",
      "Age\n"
     ]
    }
   ],
   "source": [
    "### Case-Sensitivity of Python Variables\n",
    "age = 30\n",
    "Age =56\n",
    "\n",
    "print(\"age\")\n",
    "print(\"Age\")"
   ]
  },
  {
   "cell_type": "code",
   "execution_count": 24,
   "id": "7e80e9b1-458d-4a1f-b5e1-f9a48979d550",
   "metadata": {},
   "outputs": [
    {
     "name": "stdout",
     "output_type": "stream",
     "text": [
      "40 40 40\n"
     ]
    }
   ],
   "source": [
    "## Python Variables - Multiple Assignment\n",
    "a=b=c= 40\n",
    "print(a,b,c)\n"
   ]
  },
  {
   "cell_type": "code",
   "execution_count": 25,
   "id": "fde154d7-2452-4953-b674-9f5ad44403f1",
   "metadata": {},
   "outputs": [
    {
     "name": "stdout",
     "output_type": "stream",
     "text": [
      "100\n",
      "100\n",
      "100\n"
     ]
    }
   ],
   "source": [
    "a = b = c = 100\n",
    "\n",
    "print (a)\n",
    "print (b)\n",
    "print (c)"
   ]
  },
  {
   "cell_type": "code",
   "execution_count": 26,
   "id": "032d92be-78f8-4ec4-ba4a-b2e30cab10bf",
   "metadata": {},
   "outputs": [
    {
     "name": "stdout",
     "output_type": "stream",
     "text": [
      "1\n",
      "2\n",
      "ramesh\n"
     ]
    }
   ],
   "source": [
    "a,b,c = 1,2,\"ramesh\"\n",
    "\n",
    "print (a)\n",
    "print (b)\n",
    "print (c)"
   ]
  },
  {
   "cell_type": "code",
   "execution_count": 32,
   "id": "211e55a8-d3e1-4e1d-b0b3-958f04857638",
   "metadata": {},
   "outputs": [
    {
     "name": "stdout",
     "output_type": "stream",
     "text": [
      "100\n",
      "100\n",
      "Mohit\n",
      "rohit\n",
      "20\n",
      "100000\n"
     ]
    }
   ],
   "source": [
    "## Python Variables - Naming Convention\n",
    "counter = 100\n",
    "_count  = 100\n",
    "name1 = \"Mohit\"\n",
    "name2 = \"rohit\"\n",
    "Age  = 20\n",
    "salary = 100000\n",
    "\n",
    "print (counter)\n",
    "print (_count)\n",
    "print (name1)\n",
    "print (name2)\n",
    "print (Age)\n",
    "print (salary)"
   ]
  },
  {
   "cell_type": "code",
   "execution_count": 33,
   "id": "5ae568ce-3017-46cd-86e1-6758b07dfadb",
   "metadata": {},
   "outputs": [
    {
     "name": "stdout",
     "output_type": "stream",
     "text": [
      "Area =  200\n",
      "Perimeter =  60\n"
     ]
    }
   ],
   "source": [
    "width = 10\n",
    "height = 20\n",
    "area = width*height\n",
    "perimeter = 2*(width+height)\n",
    "print (\"Area = \", area)\n",
    "print (\"Perimeter = \", perimeter)"
   ]
  },
  {
   "cell_type": "code",
   "execution_count": 34,
   "id": "2dff60e1-6250-4d97-98af-d3968290b585",
   "metadata": {},
   "outputs": [
    {
     "name": "stdout",
     "output_type": "stream",
     "text": [
      "15\n"
     ]
    }
   ],
   "source": [
    "## Python Local Variables\n",
    "def sum(x,y):\n",
    "   sum = x + y\n",
    "   return sum\n",
    "print(sum(5, 10))"
   ]
  },
  {
   "cell_type": "code",
   "execution_count": 36,
   "id": "9c7a5950-1b53-4d53-8bfb-be3cd94e2b27",
   "metadata": {},
   "outputs": [
    {
     "name": "stdout",
     "output_type": "stream",
     "text": [
      "11\n"
     ]
    }
   ],
   "source": [
    "x = 5\n",
    "y = 6\n",
    "def sum ():\n",
    "    sum = x + y \n",
    "    return sum\n",
    "print (sum ())"
   ]
  },
  {
   "cell_type": "code",
   "execution_count": null,
   "id": "016b2f09-6d36-406c-bf9b-8a8f920e5e24",
   "metadata": {},
   "outputs": [],
   "source": []
  }
 ],
 "metadata": {
  "kernelspec": {
   "display_name": "Python 3 (ipykernel)",
   "language": "python",
   "name": "python3"
  },
  "language_info": {
   "codemirror_mode": {
    "name": "ipython",
    "version": 3
   },
   "file_extension": ".py",
   "mimetype": "text/x-python",
   "name": "python",
   "nbconvert_exporter": "python",
   "pygments_lexer": "ipython3",
   "version": "3.13.5"
  }
 },
 "nbformat": 4,
 "nbformat_minor": 5
}
