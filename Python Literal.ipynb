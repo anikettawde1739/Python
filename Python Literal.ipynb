{
 "cells": [
  {
   "cell_type": "markdown",
   "id": "00b13187-5be5-49fa-81a2-c00b8e3d2277",
   "metadata": {},
   "source": [
    "#Different Types of Python Literals\n",
    "Integer Literal\n",
    "Float Literal\n",
    "Complex Literal\n",
    "String Literal\n",
    "List Literal\n",
    "Tuple Literal\n",
    "Dictionary Literal"
   ]
  },
  {
   "cell_type": "code",
   "execution_count": 1,
   "id": "d38f958c-d4af-4d01-ad9e-572776441bed",
   "metadata": {},
   "outputs": [
    {
     "name": "stdout",
     "output_type": "stream",
     "text": [
      "0O34 in octal is 28 <class 'int'>\n",
      "0X1c in Hexadecimal is 28 <class 'int'>\n"
     ]
    }
   ],
   "source": [
    "# Using Octal notation\n",
    "x = 0O34\n",
    "print (\"0O34 in octal is\", x, type(x))\n",
    "# Using Hexadecimal notation\n",
    "x = 0X1c\n",
    "print (\"0X1c in Hexadecimal is\", x, type(x))"
   ]
  },
  {
   "cell_type": "code",
   "execution_count": 2,
   "id": "14b12148-51fe-4e17-939b-9e615c08d0a3",
   "metadata": {},
   "outputs": [
    {
     "name": "stdout",
     "output_type": "stream",
     "text": [
      "1.23 in normal float literal is 1.23 <class 'float'>\n",
      "1.23E5 in scientific notation is 123000.0 <class 'float'>\n",
      "1.23E-2 in scientific notation is 0.0123 <class 'float'>\n"
     ]
    }
   ],
   "source": [
    "# Float Scientific Notation Literal\n",
    "# Using normal floating point notation\n",
    "x = 1.23\n",
    "print (\"1.23 in normal float literal is\", x, type(x))\n",
    "# Using Scientific notation\n",
    "x = 1.23E5\n",
    "print (\"1.23E5 in scientific notation is\", x, type(x))\n",
    "x = 1.23E-2\n",
    "print (\"1.23E-2 in scientific notation is\", x, type(x))"
   ]
  },
  {
   "cell_type": "code",
   "execution_count": 3,
   "id": "09a00f26-9b17-452d-a5d8-3fbb08eb07bf",
   "metadata": {},
   "outputs": [
    {
     "name": "stdout",
     "output_type": "stream",
     "text": [
      "2+3j complex literal is (2+3j) <class 'complex'>\n",
      "2.5+4.6j complex literal is (2+3j) <class 'complex'>\n"
     ]
    }
   ],
   "source": [
    "# Python Complex Literal\n",
    "#Using literal notation of complex number\n",
    "x = 2+3j\n",
    "print (\"2+3j complex literal is\", x, type(x))\n",
    "y = 2.5+4.6j\n",
    "print (\"2.5+4.6j complex literal is\", x, type(x))"
   ]
  },
  {
   "cell_type": "code",
   "execution_count": 4,
   "id": "7f49bb75-3afc-4346-bdb0-0947cdb1aa0a",
   "metadata": {},
   "outputs": [
    {
     "name": "stdout",
     "output_type": "stream",
     "text": [
      "'hello' in single quotes is: hello <class 'str'>\n",
      "\"hello\" in double quotes is: hello <class 'str'>\n",
      "''''hello'''' in triple quotes is: hello <class 'str'>\n",
      "\"\"\"hello\"\"\" in triple quotes is: hello <class 'str'>\n"
     ]
    }
   ],
   "source": [
    "# Python String Literal\n",
    "var1='hello'\n",
    "print (\"'hello' in single quotes is:\", var1, type(var1))\n",
    "var2=\"hello\"\n",
    "print ('\"hello\" in double quotes is:', var1, type(var1))\n",
    "var3='''hello'''\n",
    "print (\"''''hello'''' in triple quotes is:\", var1, type(var1))\n",
    "var4=\"\"\"hello\"\"\"\n",
    "print ('\"\"\"hello\"\"\" in triple quotes is:', var1, type(var1))"
   ]
  },
  {
   "cell_type": "code",
   "execution_count": 5,
   "id": "31c5cff9-5bc3-4ef6-b893-92cf4632c99b",
   "metadata": {},
   "outputs": [
    {
     "name": "stdout",
     "output_type": "stream",
     "text": [
      "Welcome to \"Python Tutorial\" from TutorialsPoint\n",
      "Welcome to 'Python Tutorial' from TutorialsPoint\n"
     ]
    }
   ],
   "source": [
    "# String Literal With Double Quoted Inside String\n",
    "var1='Welcome to \"Python Tutorial\" from TutorialsPoint'\n",
    "print (var1)\n",
    "var2=\"Welcome to 'Python Tutorial' from TutorialsPoint\"\n",
    "print (var2)"
   ]
  },
  {
   "cell_type": "code",
   "execution_count": 6,
   "id": "58108e8f-b59a-4122-a7ee-fc32fdb43534",
   "metadata": {},
   "outputs": [
    {
     "name": "stdout",
     "output_type": "stream",
     "text": [
      "[1, 'Ravi', 75.5, True] <class 'list'>\n"
     ]
    }
   ],
   "source": [
    "#Python List Literal\n",
    "L1=[1,\"Ravi\",75.50, True]\n",
    "print (L1, type(L1))"
   ]
  },
  {
   "cell_type": "code",
   "execution_count": 7,
   "id": "4c610bf4-8441-4ec4-961e-8d0541640199",
   "metadata": {},
   "outputs": [
    {
     "name": "stdout",
     "output_type": "stream",
     "text": [
      "(1, 'Ravi', 75.5, True) <class 'tuple'>\n"
     ]
    }
   ],
   "source": [
    "#Python Tuple Literal\n",
    "T1=(1,\"Ravi\",75.50, True)\n",
    "print (T1, type(T1))"
   ]
  },
  {
   "cell_type": "code",
   "execution_count": 8,
   "id": "2bf117bd-933f-4746-99f6-44d4628efd85",
   "metadata": {},
   "outputs": [
    {
     "name": "stdout",
     "output_type": "stream",
     "text": [
      "(1, 'Ravi', 75.5, True) <class 'tuple'>\n"
     ]
    }
   ],
   "source": [
    "#Tuple Type Literal Without Parenthesis\n",
    "T1=1,\"Ravi\",75.50, True\n",
    "print (T1, type(T1))"
   ]
  },
  {
   "cell_type": "code",
   "execution_count": 9,
   "id": "225aadb3-89db-47a4-ba28-f08a38dda2a4",
   "metadata": {},
   "outputs": [
    {
     "name": "stdout",
     "output_type": "stream",
     "text": [
      "{'USA': 'New York', 'France': 'Paris', 'Japan': 'Tokyo', 'India': 'New Delhi'} <class 'dict'>\n",
      "{1: 'one', 2: 'Two', 3: 'three', 4: 'four'} <class 'dict'>\n",
      "{'p1': (10, 10), 'p2': (20, 20)} <class 'dict'>\n"
     ]
    }
   ],
   "source": [
    "#Python Dictionary Literal\n",
    "capitals={\"USA\":\"New York\", \"France\":\"Paris\", \"Japan\":\"Tokyo\",\n",
    "\"India\":\"New Delhi\"}\n",
    "numbers={1:\"one\", 2:\"Two\", 3:\"three\",4:\"four\"}\n",
    "points={\"p1\":(10,10), \"p2\":(20,20)}\n",
    "\n",
    "print (capitals, type(capitals))\n",
    "print (numbers, type(numbers))\n",
    "print (points, type(points))"
   ]
  },
  {
   "cell_type": "code",
   "execution_count": null,
   "id": "9a61ffd0-336c-4512-9f0c-0816a428a3cc",
   "metadata": {},
   "outputs": [],
   "source": []
  }
 ],
 "metadata": {
  "kernelspec": {
   "display_name": "Python 3 (ipykernel)",
   "language": "python",
   "name": "python3"
  },
  "language_info": {
   "codemirror_mode": {
    "name": "ipython",
    "version": 3
   },
   "file_extension": ".py",
   "mimetype": "text/x-python",
   "name": "python",
   "nbconvert_exporter": "python",
   "pygments_lexer": "ipython3",
   "version": "3.13.5"
  }
 },
 "nbformat": 4,
 "nbformat_minor": 5
}
