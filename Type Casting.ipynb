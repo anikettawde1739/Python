{
 "cells": [
  {
   "cell_type": "code",
   "execution_count": 3,
   "id": "9b9f8171-3f7f-4101-a3ee-253604826ac7",
   "metadata": {},
   "outputs": [
    {
     "name": "stdout",
     "output_type": "stream",
     "text": [
      "11.6\n"
     ]
    }
   ],
   "source": [
    "# Python Implicit Casting\n",
    "a = True;\n",
    "b = 10.6;\n",
    "c= a + b;\n",
    "\n",
    "print(c);\n"
   ]
  },
  {
   "cell_type": "code",
   "execution_count": 4,
   "id": "af04ce49-19b8-47c8-b14d-f18666389bd0",
   "metadata": {},
   "outputs": [
    {
     "name": "stdout",
     "output_type": "stream",
     "text": [
      "1\n",
      "2\n",
      "3\n"
     ]
    }
   ],
   "source": [
    "# Hexa-Decimal String to Integer\n",
    "a = int(1)     # a will be 1\n",
    "b = int(2.2)   # b will be 2\n",
    "c = int(\"3\")   # c will be 3\n",
    "\n",
    "print (a)\n",
    "print (b)\n",
    "print (c)"
   ]
  },
  {
   "cell_type": "code",
   "execution_count": 5,
   "id": "0973d264-5a6e-4973-be76-01d2e5e24c28",
   "metadata": {},
   "outputs": [
    {
     "name": "stdout",
     "output_type": "stream",
     "text": [
      "1.0\n",
      "2.2\n",
      "3.3\n"
     ]
    }
   ],
   "source": [
    "# Python float() Function\n",
    "a = float(1)     # a will be 1.0\n",
    "b = float(2.2)   # b will be 2.2\n",
    "c = float(\"3.3\") # c will be 3.3\n",
    "\n",
    "print (a)\n",
    "print (b)\n",
    "print (c)\n"
   ]
  },
  {
   "cell_type": "code",
   "execution_count": 6,
   "id": "f2d815e4-a201-4d9e-bb24-d6fe3a0e984c",
   "metadata": {},
   "outputs": [
    {
     "name": "stdout",
     "output_type": "stream",
     "text": [
      "1\n",
      "2.2\n",
      "3.3\n"
     ]
    }
   ],
   "source": [
    "# Python str() Function\n",
    "a = str(1)     # a will be \"1\"\n",
    "b = str(2.2)   # b will be \"2.2\"\n",
    "c = str(\"3.3\") # c will be \"3.3\"\n",
    "\n",
    "print (a)\n",
    "print (b)\n",
    "print (c)"
   ]
  },
  {
   "cell_type": "markdown",
   "id": "011d8858-55e3-4a69-8cca-b06b2b382c10",
   "metadata": {},
   "source": [
    "# Conversion of Sequence Types\n",
    "\"\"\"\n",
    "<<< a=[1,2,3,4,5]   # List Object\n",
    "<<< b=(1,2,3,4,5)   # Tupple Object\n",
    "<<< c=\"Hello\"       # String Object\n",
    "\n",
    "### list() separates each character in the string and builds the list\n",
    "<<< obj=list(c)\n",
    "<<< obj\n",
    "['H', 'e', 'l', 'l', 'o']\n",
    "\n",
    "### The parentheses of tuple are replaced by square brackets\n",
    "<<< obj=list(b)\n",
    "<<< obj\n",
    "[1, 2, 3, 4, 5]\n",
    "\n",
    "### tuple() separates each character from string and builds a tuple of characters\n",
    "<<< obj=tuple(c)\n",
    "<<< obj\n",
    "('H', 'e', 'l', 'l', 'o')\n",
    "\n",
    "### square brackets of list are replaced by parentheses.\n",
    "<<< obj=tuple(a)\n",
    "<<< obj\n",
    "(1, 2, 3, 4, 5)\n",
    "\n",
    "### str() function puts the list and tuple inside the quote symbols.\n",
    "<<< obj=str(a)\n",
    "<<< obj\n",
    "'[1, 2, 3, 4, 5]'\n",
    "\n",
    "<<< obj=str(b)\n",
    "<<< obj\n",
    "'(1, 2, 3, 4, 5)'\n",
    "\"\"\""
   ]
  },
  {
   "cell_type": "code",
   "execution_count": null,
   "id": "78247e71-4635-4e6a-96d4-bb0bdd5cff31",
   "metadata": {},
   "outputs": [],
   "source": []
  }
 ],
 "metadata": {
  "kernelspec": {
   "display_name": "Python 3 (ipykernel)",
   "language": "python",
   "name": "python3"
  },
  "language_info": {
   "codemirror_mode": {
    "name": "ipython",
    "version": 3
   },
   "file_extension": ".py",
   "mimetype": "text/x-python",
   "name": "python",
   "nbconvert_exporter": "python",
   "pygments_lexer": "ipython3",
   "version": "3.13.5"
  }
 },
 "nbformat": 4,
 "nbformat_minor": 5
}
