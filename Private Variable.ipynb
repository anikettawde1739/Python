{
 "cells": [
  {
   "cell_type": "code",
   "execution_count": 3,
   "id": "b9760d32-8b24-4073-86fd-f76a7fd27a39",
   "metadata": {},
   "outputs": [
    {
     "name": "stdout",
     "output_type": "stream",
     "text": [
      "I am Private\n"
     ]
    }
   ],
   "source": [
    "class MyClass:\n",
    "    def __init__(self):\n",
    "        self.__private_var = \"I am Private\"\n",
    "\n",
    "    def show_private(self):\n",
    "        return self.__private_var\n",
    "\n",
    "obj = MyClass()\n",
    "print(obj._MyClass__private_var)"
   ]
  },
  {
   "cell_type": "code",
   "execution_count": 4,
   "id": "8dae46bd-b03a-4229-b416-3f80a6dd6f53",
   "metadata": {},
   "outputs": [
    {
     "name": "stdout",
     "output_type": "stream",
     "text": [
      "I am Private\n"
     ]
    }
   ],
   "source": [
    "## Name Mangling for Private Variables\n",
    "class MyClass:\n",
    "    def __init__(self):\n",
    "        self.__private_var = \"I am Private\"\n",
    "\n",
    "    def show_private(self):\n",
    "        return self.__private_var\n",
    "\n",
    "obj = MyClass()\n",
    "                    # Accessing private variable using name mangling\n",
    "print(obj._MyClass__private_var)  # Access using name mangling"
   ]
  },
  {
   "cell_type": "code",
   "execution_count": 5,
   "id": "41383ee6-ebdf-4997-a7c2-60b5e5b5eaed",
   "metadata": {},
   "outputs": [
    {
     "name": "stdout",
     "output_type": "stream",
     "text": [
      "I am Private and This is a private method\n",
      "This is a private method\n"
     ]
    }
   ],
   "source": [
    "# Private method\n",
    "class MyClass:\n",
    "    def __init__(self):\n",
    "        self.__private_var = \"I am Private\"\n",
    "\n",
    "    def __private_method(self):\n",
    "        return \"This is a private method\"\n",
    "\n",
    "    def show_private(self):\n",
    "        return self.__private_var + \" and \" + self.__private_method()\n",
    "\n",
    "obj = MyClass()\n",
    "print(obj.show_private())    #  Access through method\n",
    "                             # print(obj.__private_method())  # ✗ AttributeError\n",
    "print(obj._MyClass__private_method())"
   ]
  },
  {
   "cell_type": "code",
   "execution_count": 6,
   "id": "5564b865-f61a-43ee-b4af-448add71f04a",
   "metadata": {},
   "outputs": [
    {
     "name": "stdout",
     "output_type": "stream",
     "text": [
      "Direct access to private variable failed!!!\n",
      "Your account balance is:  1000\n",
      "Your account balance after deposit is:  1500\n"
     ]
    }
   ],
   "source": [
    "## Example\n",
    "class BankAccount:\n",
    "    def __init__(self, account_number, balance):\n",
    "        self.__account_number = account_number   # Private\n",
    "        self.__balance = balance                 # Private\n",
    "\n",
    "    def deposit(self, amount):\n",
    "        if amount > 0:\n",
    "            self.__balance += amount\n",
    "        return self.__balance\n",
    "\n",
    "    def withdraw(self, amount):\n",
    "        if 0 < amount <= self.__balance:\n",
    "            self.__balance -= amount\n",
    "        return self.__balance\n",
    "\n",
    "    def get_balance(self):\n",
    "        return self.__balance\n",
    "\n",
    "account = BankAccount(\"12345\", 1000)\n",
    "\n",
    "# Direct access will fail\n",
    "try:\n",
    "    account.__balance += 500  # ✗ AttributeError\n",
    "except AttributeError:\n",
    "    print(\"Direct access to private variable failed!!!\")\n",
    "\n",
    "# Access using methods\n",
    "print(\"Your account balance is: \", account.get_balance())   # ✓ 1000\n",
    "\n",
    "account.deposit(500)\n",
    "print(\"Your account balance after deposit is: \", account.get_balance())  # ✓ 1500"
   ]
  },
  {
   "cell_type": "code",
   "execution_count": null,
   "id": "6cb8d9d9-78a4-4bdf-adf7-85ef02c995d2",
   "metadata": {},
   "outputs": [],
   "source": []
  }
 ],
 "metadata": {
  "kernelspec": {
   "display_name": "Python 3 (ipykernel)",
   "language": "python",
   "name": "python3"
  },
  "language_info": {
   "codemirror_mode": {
    "name": "ipython",
    "version": 3
   },
   "file_extension": ".py",
   "mimetype": "text/x-python",
   "name": "python",
   "nbconvert_exporter": "python",
   "pygments_lexer": "ipython3",
   "version": "3.13.5"
  }
 },
 "nbformat": 4,
 "nbformat_minor": 5
}
