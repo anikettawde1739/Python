{
 "cells": [
  {
   "cell_type": "code",
   "execution_count": 1,
   "id": "3f52b2ea-2ba2-4bf1-ad4a-7868b4bc7b33",
   "metadata": {},
   "outputs": [
    {
     "name": "stdout",
     "output_type": "stream",
     "text": [
      "Addition of two integers\n",
      "a = 10 b = 20 addition = 30\n"
     ]
    }
   ],
   "source": [
    "# Python - Arithmetic Operators\n",
    "a=10\n",
    "b=20\n",
    "print (\"Addition of two integers\")\n",
    "print (\"a =\",a,\"b =\",b,\"addition =\",a+b)"
   ]
  },
  {
   "cell_type": "code",
   "execution_count": 2,
   "id": "4d22b453-ed31-4c1d-a26d-098ec25b3d63",
   "metadata": {},
   "outputs": [
    {
     "name": "stdout",
     "output_type": "stream",
     "text": [
      "Addition of integer and float\n",
      "a = 10 b = 20.5 addition = 30.5\n"
     ]
    }
   ],
   "source": [
    "##to add integer and float numbers\n",
    "a=10\n",
    "b=20.5\n",
    "print (\"Addition of integer and float\")\n",
    "print (\"a =\",a,\"b =\",b,\"addition =\",a+b)"
   ]
  },
  {
   "cell_type": "code",
   "execution_count": 3,
   "id": "b9ef9d3b-82d3-40df-b530-e6096b594ab1",
   "metadata": {},
   "outputs": [
    {
     "name": "stdout",
     "output_type": "stream",
     "text": [
      "Addition of complex and float\n",
      "a= (10+5j) b= 20.5 addition= (30.5+5j)\n"
     ]
    }
   ],
   "source": [
    "# to add two complex numbers\n",
    "a=10+5j\n",
    "b=20.5\n",
    "print (\"Addition of complex and float\")\n",
    "print (\"a=\",a,\"b=\",b,\"addition=\",a+b)"
   ]
  },
  {
   "cell_type": "code",
   "execution_count": 4,
   "id": "68d91d5a-0e5e-48a3-9a9b-886a021a8ccf",
   "metadata": {},
   "outputs": [
    {
     "name": "stdout",
     "output_type": "stream",
     "text": [
      "Subtraction of two integers:\n",
      "a = 10 b = 20 a-b = -10\n",
      "a = 10 b = 20 b-a = 10\n"
     ]
    }
   ],
   "source": [
    "#Subtraction Operator\n",
    "a=10\n",
    "b=20\n",
    "print (\"Subtraction of two integers:\")\n",
    "print (\"a =\",a,\"b =\",b,\"a-b =\",a-b)\n",
    "print (\"a =\",a,\"b =\",b,\"b-a =\",b-a)"
   ]
  },
  {
   "cell_type": "code",
   "execution_count": 5,
   "id": "fd631063-201c-49fb-86b6-173a922a3aa7",
   "metadata": {},
   "outputs": [
    {
     "name": "stdout",
     "output_type": "stream",
     "text": [
      "subtraction of integer and float\n",
      "a= 10 b= 20.5 a-b= -10.5\n",
      "a= 10 b= 20.5 b-a= 10.5\n"
     ]
    }
   ],
   "source": [
    "# to subtract integer and float numbers\n",
    "a=10\n",
    "b=20.5\n",
    "print (\"subtraction of integer and float\")\n",
    "print (\"a=\",a,\"b=\",b,\"a-b=\",a-b)\n",
    "print (\"a=\",a,\"b=\",b,\"b-a=\",b-a)"
   ]
  },
  {
   "cell_type": "code",
   "execution_count": 6,
   "id": "be80e217-0e19-4416-a29d-36cb6a93858e",
   "metadata": {},
   "outputs": [
    {
     "name": "stdout",
     "output_type": "stream",
     "text": [
      "subtraction of complex and float\n",
      "a= (10+5j) b= 20.5 a-b= (-10.5+5j)\n",
      "a= (10+5j) b= 20.5 b-a= (10.5-5j)\n"
     ]
    }
   ],
   "source": [
    "#to subtract complex numbers\n",
    "a=10+5j\n",
    "b=20.5\n",
    "print (\"subtraction of complex and float\")\n",
    "print (\"a=\",a,\"b=\",b,\"a-b=\",a-b)\n",
    "print (\"a=\",a,\"b=\",b,\"b-a=\",b-a)"
   ]
  },
  {
   "cell_type": "code",
   "execution_count": 7,
   "id": "bed41b0a-b532-4407-a8f2-a1513ae807a7",
   "metadata": {},
   "outputs": [
    {
     "name": "stdout",
     "output_type": "stream",
     "text": [
      "Multiplication of two integers\n",
      "a = 10 b = 20 a*b = 200\n"
     ]
    }
   ],
   "source": [
    "# Multiplication Operator\n",
    "a=10\n",
    "b=20\n",
    "print (\"Multiplication of two integers\")\n",
    "print (\"a =\",a,\"b =\",b,\"a*b =\",a*b)"
   ]
  },
  {
   "cell_type": "code",
   "execution_count": 8,
   "id": "e774add7-d5ef-4555-86c1-5e1ab1f78fd1",
   "metadata": {},
   "outputs": [
    {
     "name": "stdout",
     "output_type": "stream",
     "text": [
      "Multiplication of integer and float\n",
      "a= 10 b= 20.5 a*b= 205.0\n",
      "Multiplication of float and float\n",
      "a = -5.55 b = 0.00675 a*b = -0.037462499999999996\n"
     ]
    }
   ],
   "source": [
    "#multiply integer and float numbers\n",
    "a=10\n",
    "b=20.5\n",
    "print (\"Multiplication of integer and float\")\n",
    "print (\"a=\",a,\"b=\",b,\"a*b=\",a*b)\n",
    "\n",
    "a=-5.55\n",
    "b=6.75E-3\n",
    "print (\"Multiplication of float and float\")\n",
    "print (\"a =\",a,\"b =\",b,\"a*b =\",a*b)"
   ]
  },
  {
   "cell_type": "code",
   "execution_count": 9,
   "id": "72d3f9cd-a89e-4f8e-ae24-d23c8909fea8",
   "metadata": {},
   "outputs": [
    {
     "name": "stdout",
     "output_type": "stream",
     "text": [
      "Multiplication of complex and float\n",
      "a = (10+5j) b = 20.5 a*b = (205+102.5j)\n"
     ]
    }
   ],
   "source": [
    "#multiply complex numbers\n",
    "a=10+5j\n",
    "b=20.5\n",
    "print (\"Multiplication of complex and float\")\n",
    "print (\"a =\",a,\"b =\",b,\"a*b =\",a*b)"
   ]
  },
  {
   "cell_type": "code",
   "execution_count": 10,
   "id": "385444db-3d1b-4667-8443-6a621206adf0",
   "metadata": {},
   "outputs": [
    {
     "name": "stdout",
     "output_type": "stream",
     "text": [
      "Division of two integers\n",
      "a= 10 b= 20 a/b= 0.5\n",
      "a= 10 b= 20 b/a= 2.0\n"
     ]
    }
   ],
   "source": [
    "#Division Operator\n",
    "a=10\n",
    "b=20\n",
    "print (\"Division of two integers\")\n",
    "print (\"a=\",a,\"b=\",b,\"a/b=\",a/b)\n",
    "print (\"a=\",a,\"b=\",b,\"b/a=\",b/a)"
   ]
  },
  {
   "cell_type": "code",
   "execution_count": 11,
   "id": "c5b27ea6-1ef9-447a-bbab-c83f4a0ac8af",
   "metadata": {},
   "outputs": [
    {
     "name": "stdout",
     "output_type": "stream",
     "text": [
      "Division of integer and float\n",
      "a= 10 b= -20.5 a/b= -0.4878048780487805\n",
      "Division of float and float\n",
      "a= -2.5 b= 125.0 a/b= -0.02\n"
     ]
    }
   ],
   "source": [
    "#divide two float numbers\n",
    "a=10\n",
    "b=-20.5\n",
    "print (\"Division of integer and float\")\n",
    "print (\"a=\",a,\"b=\",b,\"a/b=\",a/b)\n",
    "a=-2.50\n",
    "b=1.25E2\n",
    "print (\"Division of float and float\")\n",
    "print (\"a=\",a,\"b=\",b,\"a/b=\",a/b)"
   ]
  },
  {
   "cell_type": "code",
   "execution_count": 12,
   "id": "9e8769a8-14b6-45bf-9d56-28744f9b3e0b",
   "metadata": {},
   "outputs": [
    {
     "name": "stdout",
     "output_type": "stream",
     "text": [
      "Division of complex and float\n",
      "a = (7.5+7.5j) b = 2.5 a/b = (3+3j)\n",
      "a = (7.5+7.5j) b = 2.5 b/a = (0.16666666666666666-0.16666666666666666j)\n"
     ]
    }
   ],
   "source": [
    "#divide complex numbers\n",
    "a=7.5+7.5j\n",
    "b=2.5\n",
    "print (\"Division of complex and float\")\n",
    "print (\"a =\",a,\"b =\",b,\"a/b =\",a/b)\n",
    "print (\"a =\",a,\"b =\",b,\"b/a =\",b/a)"
   ]
  },
  {
   "cell_type": "code",
   "execution_count": 13,
   "id": "edc1f1f5-fd3c-4f07-9775-0565982f945a",
   "metadata": {},
   "outputs": [
    {
     "name": "stdout",
     "output_type": "stream",
     "text": [
      "a= 0 b= 2.5 a/b= 0.0\n"
     ]
    },
    {
     "ename": "ZeroDivisionError",
     "evalue": "float division by zero",
     "output_type": "error",
     "traceback": [
      "\u001b[31m---------------------------------------------------------------------------\u001b[39m",
      "\u001b[31mZeroDivisionError\u001b[39m                         Traceback (most recent call last)",
      "\u001b[36mCell\u001b[39m\u001b[36m \u001b[39m\u001b[32mIn[13]\u001b[39m\u001b[32m, line 4\u001b[39m\n\u001b[32m      2\u001b[39m b=\u001b[32m2.5\u001b[39m\n\u001b[32m      3\u001b[39m \u001b[38;5;28mprint\u001b[39m (\u001b[33m\"\u001b[39m\u001b[33ma=\u001b[39m\u001b[33m\"\u001b[39m,a,\u001b[33m\"\u001b[39m\u001b[33mb=\u001b[39m\u001b[33m\"\u001b[39m,b,\u001b[33m\"\u001b[39m\u001b[33ma/b=\u001b[39m\u001b[33m\"\u001b[39m,a/b)\n\u001b[32m----> \u001b[39m\u001b[32m4\u001b[39m \u001b[38;5;28mprint\u001b[39m (\u001b[33m\"\u001b[39m\u001b[33ma=\u001b[39m\u001b[33m\"\u001b[39m,a,\u001b[33m\"\u001b[39m\u001b[33mb=\u001b[39m\u001b[33m\"\u001b[39m,b,\u001b[33m\"\u001b[39m\u001b[33mb/a=\u001b[39m\u001b[33m\"\u001b[39m,\u001b[43mb\u001b[49m\u001b[43m/\u001b[49m\u001b[43ma\u001b[49m)\n",
      "\u001b[31mZeroDivisionError\u001b[39m: float division by zero"
     ]
    }
   ],
   "source": [
    "a=0\n",
    "b=2.5\n",
    "print (\"a=\",a,\"b=\",b,\"a/b=\",a/b)\n",
    "print (\"a=\",a,\"b=\",b,\"b/a=\",b/a)"
   ]
  },
  {
   "cell_type": "code",
   "execution_count": 14,
   "id": "89fe8e38-02f4-44d9-975b-9e0b252ee1eb",
   "metadata": {},
   "outputs": [
    {
     "name": "stdout",
     "output_type": "stream",
     "text": [
      "a= 10 b= 2 a%b= 0\n",
      "a= 10 b= 4 a%b= 2\n",
      "a= 10 b= 4 b%a= 4\n",
      "a= 0 b= 10 a%b= 0\n"
     ]
    },
    {
     "ename": "ZeroDivisionError",
     "evalue": "integer modulo by zero",
     "output_type": "error",
     "traceback": [
      "\u001b[31m---------------------------------------------------------------------------\u001b[39m",
      "\u001b[31mZeroDivisionError\u001b[39m                         Traceback (most recent call last)",
      "\u001b[36mCell\u001b[39m\u001b[36m \u001b[39m\u001b[32mIn[14]\u001b[39m\u001b[32m, line 12\u001b[39m\n\u001b[32m     10\u001b[39m b=\u001b[32m10\u001b[39m\n\u001b[32m     11\u001b[39m \u001b[38;5;28mprint\u001b[39m (\u001b[33m\"\u001b[39m\u001b[33ma=\u001b[39m\u001b[33m\"\u001b[39m,a, \u001b[33m\"\u001b[39m\u001b[33mb=\u001b[39m\u001b[33m\"\u001b[39m,b, \u001b[33m\"\u001b[39m\u001b[33ma\u001b[39m\u001b[33m%\u001b[39m\u001b[33mb=\u001b[39m\u001b[33m\"\u001b[39m, a%b)\n\u001b[32m---> \u001b[39m\u001b[32m12\u001b[39m \u001b[38;5;28mprint\u001b[39m (\u001b[33m\"\u001b[39m\u001b[33ma=\u001b[39m\u001b[33m\"\u001b[39m, a, \u001b[33m\"\u001b[39m\u001b[33mb=\u001b[39m\u001b[33m\"\u001b[39m, b, \u001b[33m\"\u001b[39m\u001b[33mb\u001b[39m\u001b[38;5;132;01m%a\u001b[39;00m\u001b[33m=\u001b[39m\u001b[33m\"\u001b[39m,\u001b[43mb\u001b[49m\u001b[43m%\u001b[49m\u001b[43ma\u001b[49m)\n",
      "\u001b[31mZeroDivisionError\u001b[39m: integer modulo by zero"
     ]
    }
   ],
   "source": [
    "#modulus operation on integers\n",
    "a=10\n",
    "b=2\n",
    "print (\"a=\",a, \"b=\",b, \"a%b=\", a%b)\n",
    "a=10\n",
    "b=4\n",
    "print (\"a=\",a, \"b=\",b, \"a%b=\", a%b)\n",
    "print (\"a=\",a, \"b=\",b, \"b%a=\", b%a)\n",
    "a=0\n",
    "b=10\n",
    "print (\"a=\",a, \"b=\",b, \"a%b=\", a%b)\n",
    "print (\"a=\", a, \"b=\", b, \"b%a=\",b%a)"
   ]
  },
  {
   "cell_type": "code",
   "execution_count": 15,
   "id": "1fb3d119-59ea-47f5-b593-192b003ff6bc",
   "metadata": {},
   "outputs": [
    {
     "name": "stdout",
     "output_type": "stream",
     "text": [
      "a= 10 b= 2.5 a%b= 0.0\n",
      "a= 10 b= 1.5 a%b= 1.0\n",
      "a= 7.7 b= 2.5 a%b= 0.20000000000000018\n",
      "a= 12.4 b= 3 a%b= 0.40000000000000036\n"
     ]
    }
   ],
   "source": [
    "#modulus operation on floats\n",
    "a=10\n",
    "b=2.5\n",
    "print (\"a=\",a, \"b=\",b, \"a%b=\", a%b)\n",
    "a=10\n",
    "b=1.5\n",
    "print (\"a=\",a, \"b=\",b, \"a%b=\", a%b)\n",
    "a=7.7\n",
    "b=2.5\n",
    "print (\"a=\",a, \"b=\",b, \"a%b=\", a%b)\n",
    "a=12.4\n",
    "b=3\n",
    "print (\"a=\",a, \"b=\",b, \"a%b=\", a%b)"
   ]
  },
  {
   "cell_type": "code",
   "execution_count": 16,
   "id": "180d6065-43f0-4ce2-b8e4-597cef2e59af",
   "metadata": {},
   "outputs": [
    {
     "name": "stdout",
     "output_type": "stream",
     "text": [
      "a= 10 b= 2 a**b= 100\n",
      "a= 10 b= 1.5 a**b= 31.622776601683793\n",
      "a= 7.7 b= 2 a**b= 59.290000000000006\n",
      "a= (1+2j) b= 4 a**b= (-7-24j)\n",
      "a= 12.4 b= 0 a**b= 1.0\n",
      "a= 12.4 b= 0 b**a= 0.0\n"
     ]
    }
   ],
   "source": [
    "#exponent operator\n",
    "a=10\n",
    "b=2\n",
    "print (\"a=\",a, \"b=\",b, \"a**b=\", a**b)\n",
    "a=10\n",
    "b=1.5\n",
    "print (\"a=\",a, \"b=\",b, \"a**b=\", a**b)\n",
    "a=7.7\n",
    "b=2\n",
    "print (\"a=\",a, \"b=\",b, \"a**b=\", a**b)\n",
    "a=1+2j\n",
    "b=4\n",
    "print (\"a=\",a, \"b=\",b, \"a**b=\", a**b)\n",
    "a=12.4\n",
    "b=0\n",
    "print (\"a=\",a, \"b=\",b, \"a**b=\", a**b)\n",
    "print (\"a=\",a, \"b=\",b, \"b**a=\", b**a)"
   ]
  },
  {
   "cell_type": "code",
   "execution_count": 17,
   "id": "9ece2288-89ce-4c8a-b80d-8fe3c5e4859b",
   "metadata": {},
   "outputs": [
    {
     "name": "stdout",
     "output_type": "stream",
     "text": [
      "a= 9 b= 2 a//b= 4\n",
      "a= 9 b= -2 a//b= -5\n",
      "a= 10 b= 1.5 a//b= 6.0\n",
      "a= -10 b= 1.5 a//b= -7.0\n"
     ]
    }
   ],
   "source": [
    "#Floor Division Operator\n",
    "a=9\n",
    "b=2\n",
    "print (\"a=\",a, \"b=\",b, \"a//b=\", a//b)\n",
    "a=9\n",
    "b=-2\n",
    "print (\"a=\",a, \"b=\",b, \"a//b=\", a//b)\n",
    "a=10\n",
    "b=1.5\n",
    "print (\"a=\",a, \"b=\",b, \"a//b=\", a//b)\n",
    "a=-10\n",
    "b=1.5\n",
    "print (\"a=\",a, \"b=\",b, \"a//b=\", a//b)"
   ]
  },
  {
   "cell_type": "code",
   "execution_count": 18,
   "id": "d82271b2-9924-4764-9cf9-a455cda45e25",
   "metadata": {},
   "outputs": [
    {
     "name": "stdout",
     "output_type": "stream",
     "text": [
      "Addition of complex numbers - a= (2.5+3.4j) b= (-3+1j) a+b= (-0.5+4.4j)\n",
      "Subtraction of complex numbers - a= (2.5+3.4j) b= (-3+1j) a-b= (5.5+2.4j)\n"
     ]
    }
   ],
   "source": [
    "#Addition and subtraction of complex numbers\n",
    "a=2.5+3.4j\n",
    "b=-3+1.0j\n",
    "print (\"Addition of complex numbers - a=\",a, \"b=\",b, \"a+b=\", a+b)\n",
    "print (\"Subtraction of complex numbers - a=\",a, \"b=\",b, \"a-b=\", a-b)"
   ]
  },
  {
   "cell_type": "code",
   "execution_count": 21,
   "id": "46d50bc8-e69e-47e1-b09e-1f64edb49e0c",
   "metadata": {},
   "outputs": [
    {
     "name": "stdout",
     "output_type": "stream",
     "text": [
      "Division of complex numbers - a= (6+4j) b= (3+2j) a/b= (2+0j)\n"
     ]
    }
   ],
   "source": [
    "#Multiplication of complex numbers\n",
    "a=6+4j\n",
    "b=3+2j\n",
    "print (\"Division of complex numbers - a=\",a, \"b=\",b, \"a/b=\", a/b)"
   ]
  },
  {
   "cell_type": "code",
   "execution_count": null,
   "id": "68a5e1e6-d5b7-42e0-af93-ee4e5cbf110a",
   "metadata": {},
   "outputs": [],
   "source": []
  }
 ],
 "metadata": {
  "kernelspec": {
   "display_name": "Python 3 (ipykernel)",
   "language": "python",
   "name": "python3"
  },
  "language_info": {
   "codemirror_mode": {
    "name": "ipython",
    "version": 3
   },
   "file_extension": ".py",
   "mimetype": "text/x-python",
   "name": "python",
   "nbconvert_exporter": "python",
   "pygments_lexer": "ipython3",
   "version": "3.13.5"
  }
 },
 "nbformat": 4,
 "nbformat_minor": 5
}
