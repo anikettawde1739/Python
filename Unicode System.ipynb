{
 "cells": [
  {
   "cell_type": "code",
   "execution_count": 1,
   "id": "9efa27c3-89fa-4829-82e1-f848baa48aaf",
   "metadata": {},
   "outputs": [
    {
     "name": "stdout",
     "output_type": "stream",
     "text": [
      "3/4\n",
      "¾\n"
     ]
    }
   ],
   "source": [
    "# Unicode system \n",
    "var = \"3/4\"\n",
    "print (var)\n",
    "var = \"\\u00BE\"\n",
    "print (var)"
   ]
  },
  {
   "cell_type": "code",
   "execution_count": 2,
   "id": "35a5ff18-122e-4da3-bf5f-5b19243b993c",
   "metadata": {},
   "outputs": [
    {
     "name": "stdout",
     "output_type": "stream",
     "text": [
      "10\n"
     ]
    }
   ],
   "source": [
    "var = \"\\u0031\\u0030\"\n",
    "print (var)"
   ]
  },
  {
   "cell_type": "code",
   "execution_count": 3,
   "id": "456a528b-a214-4c56-9116-bf94dcca137a",
   "metadata": {},
   "outputs": [
    {
     "name": "stdout",
     "output_type": "stream",
     "text": [
      "b'Hello'\n",
      "Hello\n"
     ]
    }
   ],
   "source": [
    "string = \"Hello\"\n",
    "tobytes = string.encode('utf-8')\n",
    "print (tobytes)\n",
    "string = tobytes.decode('utf-8')\n",
    "print (string)"
   ]
  },
  {
   "cell_type": "code",
   "execution_count": 4,
   "id": "5bc4d69f-a2d1-4dbb-9a12-b2770f8921b1",
   "metadata": {},
   "outputs": [
    {
     "name": "stdout",
     "output_type": "stream",
     "text": [
      "₹\n",
      "b'\\xe2\\x82\\xb9'\n",
      "₹\n"
     ]
    }
   ],
   "source": [
    "string = \"\\u20B9\"\n",
    "print (string)\n",
    "tobytes = string.encode('utf-8')\n",
    "print (tobytes)\n",
    "string = tobytes.decode('utf-8')\n",
    "print (string)"
   ]
  },
  {
   "cell_type": "code",
   "execution_count": null,
   "id": "deccbdcf-c842-423d-af6a-b9bf60008bdc",
   "metadata": {},
   "outputs": [],
   "source": []
  }
 ],
 "metadata": {
  "kernelspec": {
   "display_name": "Python 3 (ipykernel)",
   "language": "python",
   "name": "python3"
  },
  "language_info": {
   "codemirror_mode": {
    "name": "ipython",
    "version": 3
   },
   "file_extension": ".py",
   "mimetype": "text/x-python",
   "name": "python",
   "nbconvert_exporter": "python",
   "pygments_lexer": "ipython3",
   "version": "3.13.5"
  }
 },
 "nbformat": 4,
 "nbformat_minor": 5
}
