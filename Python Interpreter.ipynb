{
 "cells": [
  {
   "cell_type": "code",
   "execution_count": 2,
   "id": "c9d038b3-314f-412c-838f-04b5e9d60f05",
   "metadata": {},
   "outputs": [
    {
     "name": "stdout",
     "output_type": "stream",
     "text": [
      "My First Program\n",
      "total 500\n"
     ]
    }
   ],
   "source": [
    "print(\"My First Program\")\n",
    "price = 100\n",
    "qty = 5\n",
    "total = price*qty\n",
    "print(\"total\", total)"
   ]
  },
  {
   "cell_type": "code",
   "execution_count": 3,
   "id": "92abb6fe-0db9-47c8-9bc5-8f0577da4f81",
   "metadata": {},
   "outputs": [
    {
     "data": {
      "text/plain": [
       "\u001b[1;31mType:\u001b[0m        str\n",
       "\u001b[1;31mString form:\u001b[0m Hello World\n",
       "\u001b[1;31mLength:\u001b[0m      11\n",
       "\u001b[1;31mDocstring:\u001b[0m  \n",
       "str(object='') -> str\n",
       "str(bytes_or_buffer[, encoding[, errors]]) -> str\n",
       "\n",
       "Create a new string object from the given object. If encoding or\n",
       "errors is specified, then the object must expose a data buffer\n",
       "that will be decoded using the given encoding and error handler.\n",
       "Otherwise, returns the result of object.__str__() (if defined)\n",
       "or repr(object).\n",
       "encoding defaults to 'utf-8'.\n",
       "errors defaults to 'strict'."
      ]
     },
     "metadata": {},
     "output_type": "display_data"
    }
   ],
   "source": [
    "var = \"Hello World\"\n",
    "var?"
   ]
  },
  {
   "cell_type": "code",
   "execution_count": null,
   "id": "2fbceca3-526e-41bd-8a0c-3f2b9e647050",
   "metadata": {},
   "outputs": [],
   "source": []
  }
 ],
 "metadata": {
  "kernelspec": {
   "display_name": "Python 3 (ipykernel)",
   "language": "python",
   "name": "python3"
  },
  "language_info": {
   "codemirror_mode": {
    "name": "ipython",
    "version": 3
   },
   "file_extension": ".py",
   "mimetype": "text/x-python",
   "name": "python",
   "nbconvert_exporter": "python",
   "pygments_lexer": "ipython3",
   "version": "3.13.5"
  }
 },
 "nbformat": 4,
 "nbformat_minor": 5
}
